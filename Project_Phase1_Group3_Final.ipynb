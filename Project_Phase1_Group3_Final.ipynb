{
  "cells": [
    {
      "cell_type": "markdown",
      "id": "24e78cc6",
      "metadata": {
        "id": "24e78cc6"
      },
      "source": [
        "# Introduction\n",
        "In this notebook, we will execute/answer all the 12 questions asked in the project phase1 pdf file. We will perform EDA on the KPMG-Company-Dataset.\n",
        "\n",
        "Group members:\n",
        "1. Amaan Izhar - 201781130 \n",
        "2. Farhan Abdul Qadir - 201771950\n",
        "3. Abduljawad Mohammad - 201744310 "
      ]
    },
    {
      "cell_type": "markdown",
      "id": "be12e278",
      "metadata": {
        "id": "be12e278"
      },
      "source": [
        "# Imports"
      ]
    },
    {
      "cell_type": "code",
      "execution_count": 23,
      "id": "6c2a3149",
      "metadata": {
        "ExecuteTime": {
          "end_time": "2021-11-11T08:47:53.787209Z",
          "start_time": "2021-11-11T08:47:53.782212Z"
        },
        "id": "6c2a3149"
      },
      "outputs": [],
      "source": [
        "%matplotlib inline\n",
        "import matplotlib.pyplot as plt\n",
        "import numpy as np\n",
        "import pandas as pd \n",
        "from scipy.stats import zscore\n",
        "from sklearn.model_selection import train_test_split"
      ]
    },
    {
      "cell_type": "markdown",
      "id": "79bc2b65",
      "metadata": {
        "id": "79bc2b65"
      },
      "source": [
        "# Q1. Description of the dataset\n",
        "\n",
        "The KPMG-Company Datasets are a group of raw datasets consisting of the company's financial and customer information pertaining to transactions, profits, and demographics. We will use only the **transactions** sheet of the excel file.\n",
        "Columns:\n",
        "- transaction_id = an id of the transaction\n",
        "- product_id = an id of the product\n",
        "- customer_id = an id of the customer\n",
        "- transaction_data - the date on which transaction was placed\n",
        "- online_order - if the order was online or not\n",
        "- order_status - whether the order was approved\n",
        "- brand - the brand of the product\n",
        "- product_line - what product category is it? \n",
        "- product_class - the class of product\n",
        "- product_size - the size of product\n",
        "- list_price - the price of product\n",
        "- standard_cost - the standard cost of the product\n",
        "- profit - how much profit did the product made\n",
        "- product_first_sold_date - the date on which it was first sold."
      ]
    },
    {
      "cell_type": "markdown",
      "id": "3445c628",
      "metadata": {
        "id": "3445c628"
      },
      "source": [
        "# EDA"
      ]
    },
    {
      "cell_type": "code",
      "execution_count": 3,
      "id": "ed552482",
      "metadata": {
        "ExecuteTime": {
          "end_time": "2021-11-11T08:47:56.558826Z",
          "start_time": "2021-11-11T08:47:53.788204Z"
        },
        "colab": {
          "base_uri": "https://localhost:8080/",
          "height": 290
        },
        "id": "ed552482",
        "outputId": "b7db3955-08a6-4a35-a951-642b21bdf08f"
      },
      "outputs": [
        {
          "data": {
            "text/html": [
              "<div>\n",
              "<style scoped>\n",
              "    .dataframe tbody tr th:only-of-type {\n",
              "        vertical-align: middle;\n",
              "    }\n",
              "\n",
              "    .dataframe tbody tr th {\n",
              "        vertical-align: top;\n",
              "    }\n",
              "\n",
              "    .dataframe thead th {\n",
              "        text-align: right;\n",
              "    }\n",
              "</style>\n",
              "<table border=\"1\" class=\"dataframe\">\n",
              "  <thead>\n",
              "    <tr style=\"text-align: right;\">\n",
              "      <th></th>\n",
              "      <th>transaction_id</th>\n",
              "      <th>product_id</th>\n",
              "      <th>customer_id</th>\n",
              "      <th>transaction_date</th>\n",
              "      <th>online_order</th>\n",
              "      <th>order_status</th>\n",
              "      <th>brand</th>\n",
              "      <th>product_line</th>\n",
              "      <th>product_class</th>\n",
              "      <th>product_size</th>\n",
              "      <th>list_price</th>\n",
              "      <th>standard_cost</th>\n",
              "      <th>profit</th>\n",
              "      <th>product_first_sold_date</th>\n",
              "    </tr>\n",
              "  </thead>\n",
              "  <tbody>\n",
              "    <tr>\n",
              "      <th>0</th>\n",
              "      <td>1</td>\n",
              "      <td>2</td>\n",
              "      <td>2950</td>\n",
              "      <td>2017-02-25</td>\n",
              "      <td>0.0</td>\n",
              "      <td>Approved</td>\n",
              "      <td>Solex</td>\n",
              "      <td>Standard</td>\n",
              "      <td>medium</td>\n",
              "      <td>medium</td>\n",
              "      <td>71.49</td>\n",
              "      <td>53.62</td>\n",
              "      <td>NaN</td>\n",
              "      <td>41245</td>\n",
              "    </tr>\n",
              "    <tr>\n",
              "      <th>1</th>\n",
              "      <td>2</td>\n",
              "      <td>3</td>\n",
              "      <td>3120</td>\n",
              "      <td>2017-05-21</td>\n",
              "      <td>1.0</td>\n",
              "      <td>Approved</td>\n",
              "      <td>Trek Bicycles</td>\n",
              "      <td>Standard</td>\n",
              "      <td>medium</td>\n",
              "      <td>large</td>\n",
              "      <td>2091.47</td>\n",
              "      <td>388.92</td>\n",
              "      <td>1702.55</td>\n",
              "      <td>2014-03-03 00:00:00</td>\n",
              "    </tr>\n",
              "    <tr>\n",
              "      <th>2</th>\n",
              "      <td>3</td>\n",
              "      <td>37</td>\n",
              "      <td>402</td>\n",
              "      <td>2017-10-16</td>\n",
              "      <td>0.0</td>\n",
              "      <td>Approved</td>\n",
              "      <td>OHM Cycles</td>\n",
              "      <td>Standard</td>\n",
              "      <td>low</td>\n",
              "      <td>medium</td>\n",
              "      <td>1793.43</td>\n",
              "      <td>248.82</td>\n",
              "      <td>NaN</td>\n",
              "      <td>36361</td>\n",
              "    </tr>\n",
              "    <tr>\n",
              "      <th>3</th>\n",
              "      <td>4</td>\n",
              "      <td>88</td>\n",
              "      <td>3135</td>\n",
              "      <td>2017-08-31</td>\n",
              "      <td>0.0</td>\n",
              "      <td>Approved</td>\n",
              "      <td>Norco Bicycles</td>\n",
              "      <td>Standard</td>\n",
              "      <td>medium</td>\n",
              "      <td>medium</td>\n",
              "      <td>1198.46</td>\n",
              "      <td>381.10</td>\n",
              "      <td>NaN</td>\n",
              "      <td>36145</td>\n",
              "    </tr>\n",
              "    <tr>\n",
              "      <th>4</th>\n",
              "      <td>5</td>\n",
              "      <td>78</td>\n",
              "      <td>787</td>\n",
              "      <td>2017-10-01</td>\n",
              "      <td>1.0</td>\n",
              "      <td>Approved</td>\n",
              "      <td>Giant Bicycles</td>\n",
              "      <td>Standard</td>\n",
              "      <td>medium</td>\n",
              "      <td>large</td>\n",
              "      <td>1765.30</td>\n",
              "      <td>709.48</td>\n",
              "      <td>1055.82</td>\n",
              "      <td>2015-08-10 00:00:00</td>\n",
              "    </tr>\n",
              "  </tbody>\n",
              "</table>\n",
              "</div>"
            ],
            "text/plain": [
              "   transaction_id  product_id  customer_id transaction_date  online_order  \\\n",
              "0               1           2         2950       2017-02-25           0.0   \n",
              "1               2           3         3120       2017-05-21           1.0   \n",
              "2               3          37          402       2017-10-16           0.0   \n",
              "3               4          88         3135       2017-08-31           0.0   \n",
              "4               5          78          787       2017-10-01           1.0   \n",
              "\n",
              "  order_status           brand product_line product_class product_size  \\\n",
              "0     Approved           Solex     Standard        medium       medium   \n",
              "1     Approved   Trek Bicycles     Standard        medium        large   \n",
              "2     Approved      OHM Cycles     Standard           low       medium   \n",
              "3     Approved  Norco Bicycles     Standard        medium       medium   \n",
              "4     Approved  Giant Bicycles     Standard        medium        large   \n",
              "\n",
              "   list_price  standard_cost   profit product_first_sold_date  \n",
              "0       71.49          53.62      NaN                   41245  \n",
              "1     2091.47         388.92  1702.55     2014-03-03 00:00:00  \n",
              "2     1793.43         248.82      NaN                   36361  \n",
              "3     1198.46         381.10      NaN                   36145  \n",
              "4     1765.30         709.48  1055.82     2015-08-10 00:00:00  "
            ]
          },
          "execution_count": 3,
          "metadata": {},
          "output_type": "execute_result"
        }
      ],
      "source": [
        "df = pd.read_excel(io='kpmg_rawdata.xlsx', sheet_name='Transactions') \n",
        "df.head()"
      ]
    },
    {
      "cell_type": "code",
      "execution_count": 4,
      "id": "6d776500",
      "metadata": {
        "ExecuteTime": {
          "end_time": "2021-11-11T08:47:56.574829Z",
          "start_time": "2021-11-11T08:47:56.559826Z"
        },
        "colab": {
          "base_uri": "https://localhost:8080/"
        },
        "id": "6d776500",
        "outputId": "9ebc51f8-2b10-4a1a-89e0-f79fa02b1bec"
      },
      "outputs": [
        {
          "name": "stdout",
          "output_type": "stream",
          "text": [
            "Total Rows = 20000 | Total Columns = 14\n",
            "Columns = Index(['transaction_id', 'product_id', 'customer_id', 'transaction_date',\n",
            "       'online_order', 'order_status', 'brand', 'product_line',\n",
            "       'product_class', 'product_size', 'list_price', 'standard_cost',\n",
            "       'profit', 'product_first_sold_date'],\n",
            "      dtype='object')\n"
          ]
        }
      ],
      "source": [
        "print(f'Total Rows = {df.shape[0]} | Total Columns = {df.shape[1]}')\n",
        "print(f'Columns = {df.columns}')"
      ]
    },
    {
      "cell_type": "markdown",
      "id": "7ef8f004",
      "metadata": {
        "id": "7ef8f004"
      },
      "source": [
        "## Q2.a - Print the data type of at least three columns\n",
        "We will print the data types of **all** columns."
      ]
    },
    {
      "cell_type": "code",
      "execution_count": 5,
      "id": "28c94b44",
      "metadata": {
        "ExecuteTime": {
          "end_time": "2021-11-11T08:47:56.590833Z",
          "start_time": "2021-11-11T08:47:56.575830Z"
        },
        "colab": {
          "base_uri": "https://localhost:8080/"
        },
        "id": "28c94b44",
        "outputId": "fc8cde32-c3dc-49c8-ea1c-f96c9d56d8ed"
      },
      "outputs": [
        {
          "data": {
            "text/plain": [
              "transaction_id                      int64\n",
              "product_id                          int64\n",
              "customer_id                         int64\n",
              "transaction_date           datetime64[ns]\n",
              "online_order                      float64\n",
              "order_status                       object\n",
              "brand                              object\n",
              "product_line                       object\n",
              "product_class                      object\n",
              "product_size                       object\n",
              "list_price                        float64\n",
              "standard_cost                     float64\n",
              "profit                            float64\n",
              "product_first_sold_date            object\n",
              "dtype: object"
            ]
          },
          "execution_count": 5,
          "metadata": {},
          "output_type": "execute_result"
        }
      ],
      "source": [
        "df.dtypes"
      ]
    },
    {
      "cell_type": "markdown",
      "id": "413e1198",
      "metadata": {
        "id": "413e1198"
      },
      "source": [
        "## Q2.b - Handle missing data of a column; for example, by mean or median"
      ]
    },
    {
      "cell_type": "code",
      "execution_count": 6,
      "id": "8c5618a8",
      "metadata": {
        "ExecuteTime": {
          "end_time": "2021-11-11T08:47:56.606837Z",
          "start_time": "2021-11-11T08:47:56.591833Z"
        },
        "colab": {
          "base_uri": "https://localhost:8080/"
        },
        "id": "8c5618a8",
        "outputId": "47697a69-7ff9-4b23-a823-4f3f427818cc"
      },
      "outputs": [
        {
          "name": "stdout",
          "output_type": "stream",
          "text": [
            "Total number of NAN or missing values in each columns are:\n"
          ]
        },
        {
          "data": {
            "text/plain": [
              "transaction_id                 0\n",
              "product_id                     0\n",
              "customer_id                    0\n",
              "transaction_date               0\n",
              "online_order                 360\n",
              "order_status                   0\n",
              "brand                        197\n",
              "product_line                 197\n",
              "product_class                197\n",
              "product_size                 197\n",
              "list_price                     0\n",
              "standard_cost                197\n",
              "profit                     10261\n",
              "product_first_sold_date      197\n",
              "dtype: int64"
            ]
          },
          "execution_count": 6,
          "metadata": {},
          "output_type": "execute_result"
        }
      ],
      "source": [
        "print('Total number of NAN or missing values in each columns are:')\n",
        "df.isna().sum()"
      ]
    },
    {
      "cell_type": "markdown",
      "id": "5d06cca7",
      "metadata": {
        "id": "5d06cca7"
      },
      "source": [
        "In the context of the dataset, we will replace missing values of the column **'profit'** and **'standard_cost'** with **mean**."
      ]
    },
    {
      "cell_type": "code",
      "execution_count": 7,
      "id": "d42ae187",
      "metadata": {
        "ExecuteTime": {
          "end_time": "2021-11-11T08:47:56.622840Z",
          "start_time": "2021-11-11T08:47:56.607839Z"
        },
        "colab": {
          "base_uri": "https://localhost:8080/"
        },
        "id": "d42ae187",
        "outputId": "da1651f7-1b5c-47c8-e260-e58ccfb61d58"
      },
      "outputs": [
        {
          "name": "stdout",
          "output_type": "stream",
          "text": [
            "#missing values = 10261.\n",
            "Mean of <profit> column = 548.405040558579.\n",
            "Filling <profit> column with mean.\n",
            "#missing values after filling with mean = 0.\n"
          ]
        },
        {
          "data": {
            "text/plain": [
              "0         548.405041\n",
              "1        1702.550000\n",
              "2         548.405041\n",
              "3         548.405041\n",
              "4        1055.820000\n",
              "            ...     \n",
              "19995     802.260000\n",
              "19996     104.240000\n",
              "19997    1592.190000\n",
              "19998     548.405041\n",
              "19999     195.340000\n",
              "Name: profit, Length: 20000, dtype: float64"
            ]
          },
          "execution_count": 7,
          "metadata": {},
          "output_type": "execute_result"
        }
      ],
      "source": [
        "count_na_before = df['profit'].isna().sum()\n",
        "print(f'#missing values = {count_na_before}.')\n",
        "\n",
        "mean = df['profit'].mean()\n",
        "print(f'Mean of <profit> column = {mean}.')\n",
        "print(f'Filling <profit> column with mean.')\n",
        "df['profit'] = df['profit'].fillna(mean)\n",
        "\n",
        "count_na_after = df['profit'].isna().sum()\n",
        "print(f'#missing values after filling with mean = {count_na_after}.')\n",
        "\n",
        "df['profit']"
      ]
    },
    {
      "cell_type": "code",
      "execution_count": 8,
      "id": "0820c3c8",
      "metadata": {
        "ExecuteTime": {
          "end_time": "2021-11-11T08:47:56.638845Z",
          "start_time": "2021-11-11T08:47:56.623841Z"
        },
        "colab": {
          "base_uri": "https://localhost:8080/"
        },
        "id": "0820c3c8",
        "outputId": "cf0d9778-0b53-46fb-9ed4-cc1a6cb58c6d"
      },
      "outputs": [
        {
          "name": "stdout",
          "output_type": "stream",
          "text": [
            "#missing values = 197.\n",
            "Mean of <standard_cost> column = 556.0469512209312.\n",
            "Filling <standard_cost> column with mean.\n",
            "#missing values after filling with mean = 0.\n"
          ]
        },
        {
          "data": {
            "text/plain": [
              "0          53.62\n",
              "1         388.92\n",
              "2         248.82\n",
              "3         381.10\n",
              "4         709.48\n",
              "          ...   \n",
              "19995    1203.40\n",
              "19996     312.74\n",
              "19997      44.71\n",
              "19998     136.73\n",
              "19999    1580.47\n",
              "Name: standard_cost, Length: 20000, dtype: float64"
            ]
          },
          "execution_count": 8,
          "metadata": {},
          "output_type": "execute_result"
        }
      ],
      "source": [
        "count_na_before = df['standard_cost'].isna().sum()\n",
        "print(f'#missing values = {count_na_before}.')\n",
        "\n",
        "mean = df['standard_cost'].mean()\n",
        "print(f'Mean of <standard_cost> column = {mean}.')\n",
        "print(f'Filling <standard_cost> column with mean.')\n",
        "df['standard_cost'] = df['standard_cost'].fillna(mean)\n",
        "\n",
        "count_na_after = df['standard_cost'].isna().sum()\n",
        "print(f'#missing values after filling with mean = {count_na_after}.')\n",
        "\n",
        "df['standard_cost']"
      ]
    },
    {
      "cell_type": "markdown",
      "id": "90cb6bcd",
      "metadata": {
        "id": "90cb6bcd"
      },
      "source": [
        "## Q2.c - Use one hot encoding to convert a nominal column.\n",
        "We will convert **brand** column into one-hot-encoding."
      ]
    },
    {
      "cell_type": "code",
      "execution_count": 9,
      "id": "250d26bb",
      "metadata": {
        "ExecuteTime": {
          "end_time": "2021-11-11T08:47:56.654851Z",
          "start_time": "2021-11-11T08:47:56.639845Z"
        },
        "colab": {
          "base_uri": "https://localhost:8080/",
          "height": 203
        },
        "id": "250d26bb",
        "outputId": "8572ae96-310f-4ca7-e2d1-d03bb7f64b2a"
      },
      "outputs": [
        {
          "data": {
            "text/html": [
              "<div>\n",
              "<style scoped>\n",
              "    .dataframe tbody tr th:only-of-type {\n",
              "        vertical-align: middle;\n",
              "    }\n",
              "\n",
              "    .dataframe tbody tr th {\n",
              "        vertical-align: top;\n",
              "    }\n",
              "\n",
              "    .dataframe thead th {\n",
              "        text-align: right;\n",
              "    }\n",
              "</style>\n",
              "<table border=\"1\" class=\"dataframe\">\n",
              "  <thead>\n",
              "    <tr style=\"text-align: right;\">\n",
              "      <th></th>\n",
              "      <th>Giant Bicycles</th>\n",
              "      <th>Norco Bicycles</th>\n",
              "      <th>OHM Cycles</th>\n",
              "      <th>Solex</th>\n",
              "      <th>Trek Bicycles</th>\n",
              "      <th>WeareA2B</th>\n",
              "    </tr>\n",
              "  </thead>\n",
              "  <tbody>\n",
              "    <tr>\n",
              "      <th>0</th>\n",
              "      <td>0</td>\n",
              "      <td>0</td>\n",
              "      <td>0</td>\n",
              "      <td>1</td>\n",
              "      <td>0</td>\n",
              "      <td>0</td>\n",
              "    </tr>\n",
              "    <tr>\n",
              "      <th>1</th>\n",
              "      <td>0</td>\n",
              "      <td>0</td>\n",
              "      <td>0</td>\n",
              "      <td>0</td>\n",
              "      <td>1</td>\n",
              "      <td>0</td>\n",
              "    </tr>\n",
              "    <tr>\n",
              "      <th>2</th>\n",
              "      <td>0</td>\n",
              "      <td>0</td>\n",
              "      <td>1</td>\n",
              "      <td>0</td>\n",
              "      <td>0</td>\n",
              "      <td>0</td>\n",
              "    </tr>\n",
              "    <tr>\n",
              "      <th>3</th>\n",
              "      <td>0</td>\n",
              "      <td>1</td>\n",
              "      <td>0</td>\n",
              "      <td>0</td>\n",
              "      <td>0</td>\n",
              "      <td>0</td>\n",
              "    </tr>\n",
              "    <tr>\n",
              "      <th>4</th>\n",
              "      <td>1</td>\n",
              "      <td>0</td>\n",
              "      <td>0</td>\n",
              "      <td>0</td>\n",
              "      <td>0</td>\n",
              "      <td>0</td>\n",
              "    </tr>\n",
              "  </tbody>\n",
              "</table>\n",
              "</div>"
            ],
            "text/plain": [
              "   Giant Bicycles  Norco Bicycles  OHM Cycles  Solex  Trek Bicycles  WeareA2B\n",
              "0               0               0           0      1              0         0\n",
              "1               0               0           0      0              1         0\n",
              "2               0               0           1      0              0         0\n",
              "3               0               1           0      0              0         0\n",
              "4               1               0           0      0              0         0"
            ]
          },
          "execution_count": 9,
          "metadata": {},
          "output_type": "execute_result"
        }
      ],
      "source": [
        "encodings_df = pd.get_dummies(df.brand)\n",
        "encodings_df.head()"
      ]
    },
    {
      "cell_type": "code",
      "execution_count": 10,
      "id": "f3d6906c",
      "metadata": {
        "ExecuteTime": {
          "end_time": "2021-11-11T08:47:56.686890Z",
          "start_time": "2021-11-11T08:47:56.656850Z"
        },
        "colab": {
          "base_uri": "https://localhost:8080/",
          "height": 240
        },
        "id": "f3d6906c",
        "outputId": "c008b3af-2ef8-463a-d4b9-a0dcdbb58a85"
      },
      "outputs": [
        {
          "data": {
            "text/html": [
              "<div>\n",
              "<style scoped>\n",
              "    .dataframe tbody tr th:only-of-type {\n",
              "        vertical-align: middle;\n",
              "    }\n",
              "\n",
              "    .dataframe tbody tr th {\n",
              "        vertical-align: top;\n",
              "    }\n",
              "\n",
              "    .dataframe thead th {\n",
              "        text-align: right;\n",
              "    }\n",
              "</style>\n",
              "<table border=\"1\" class=\"dataframe\">\n",
              "  <thead>\n",
              "    <tr style=\"text-align: right;\">\n",
              "      <th></th>\n",
              "      <th>transaction_id</th>\n",
              "      <th>product_id</th>\n",
              "      <th>customer_id</th>\n",
              "      <th>transaction_date</th>\n",
              "      <th>online_order</th>\n",
              "      <th>order_status</th>\n",
              "      <th>product_line</th>\n",
              "      <th>product_class</th>\n",
              "      <th>product_size</th>\n",
              "      <th>list_price</th>\n",
              "      <th>standard_cost</th>\n",
              "      <th>profit</th>\n",
              "      <th>product_first_sold_date</th>\n",
              "      <th>Giant Bicycles</th>\n",
              "      <th>Norco Bicycles</th>\n",
              "      <th>OHM Cycles</th>\n",
              "      <th>Solex</th>\n",
              "      <th>Trek Bicycles</th>\n",
              "      <th>WeareA2B</th>\n",
              "    </tr>\n",
              "  </thead>\n",
              "  <tbody>\n",
              "    <tr>\n",
              "      <th>0</th>\n",
              "      <td>1</td>\n",
              "      <td>2</td>\n",
              "      <td>2950</td>\n",
              "      <td>2017-02-25</td>\n",
              "      <td>0.0</td>\n",
              "      <td>Approved</td>\n",
              "      <td>Standard</td>\n",
              "      <td>medium</td>\n",
              "      <td>medium</td>\n",
              "      <td>71.49</td>\n",
              "      <td>53.62</td>\n",
              "      <td>548.405041</td>\n",
              "      <td>41245</td>\n",
              "      <td>0</td>\n",
              "      <td>0</td>\n",
              "      <td>0</td>\n",
              "      <td>1</td>\n",
              "      <td>0</td>\n",
              "      <td>0</td>\n",
              "    </tr>\n",
              "    <tr>\n",
              "      <th>1</th>\n",
              "      <td>2</td>\n",
              "      <td>3</td>\n",
              "      <td>3120</td>\n",
              "      <td>2017-05-21</td>\n",
              "      <td>1.0</td>\n",
              "      <td>Approved</td>\n",
              "      <td>Standard</td>\n",
              "      <td>medium</td>\n",
              "      <td>large</td>\n",
              "      <td>2091.47</td>\n",
              "      <td>388.92</td>\n",
              "      <td>1702.550000</td>\n",
              "      <td>2014-03-03 00:00:00</td>\n",
              "      <td>0</td>\n",
              "      <td>0</td>\n",
              "      <td>0</td>\n",
              "      <td>0</td>\n",
              "      <td>1</td>\n",
              "      <td>0</td>\n",
              "    </tr>\n",
              "    <tr>\n",
              "      <th>2</th>\n",
              "      <td>3</td>\n",
              "      <td>37</td>\n",
              "      <td>402</td>\n",
              "      <td>2017-10-16</td>\n",
              "      <td>0.0</td>\n",
              "      <td>Approved</td>\n",
              "      <td>Standard</td>\n",
              "      <td>low</td>\n",
              "      <td>medium</td>\n",
              "      <td>1793.43</td>\n",
              "      <td>248.82</td>\n",
              "      <td>548.405041</td>\n",
              "      <td>36361</td>\n",
              "      <td>0</td>\n",
              "      <td>0</td>\n",
              "      <td>1</td>\n",
              "      <td>0</td>\n",
              "      <td>0</td>\n",
              "      <td>0</td>\n",
              "    </tr>\n",
              "    <tr>\n",
              "      <th>3</th>\n",
              "      <td>4</td>\n",
              "      <td>88</td>\n",
              "      <td>3135</td>\n",
              "      <td>2017-08-31</td>\n",
              "      <td>0.0</td>\n",
              "      <td>Approved</td>\n",
              "      <td>Standard</td>\n",
              "      <td>medium</td>\n",
              "      <td>medium</td>\n",
              "      <td>1198.46</td>\n",
              "      <td>381.10</td>\n",
              "      <td>548.405041</td>\n",
              "      <td>36145</td>\n",
              "      <td>0</td>\n",
              "      <td>1</td>\n",
              "      <td>0</td>\n",
              "      <td>0</td>\n",
              "      <td>0</td>\n",
              "      <td>0</td>\n",
              "    </tr>\n",
              "    <tr>\n",
              "      <th>4</th>\n",
              "      <td>5</td>\n",
              "      <td>78</td>\n",
              "      <td>787</td>\n",
              "      <td>2017-10-01</td>\n",
              "      <td>1.0</td>\n",
              "      <td>Approved</td>\n",
              "      <td>Standard</td>\n",
              "      <td>medium</td>\n",
              "      <td>large</td>\n",
              "      <td>1765.30</td>\n",
              "      <td>709.48</td>\n",
              "      <td>1055.820000</td>\n",
              "      <td>2015-08-10 00:00:00</td>\n",
              "      <td>1</td>\n",
              "      <td>0</td>\n",
              "      <td>0</td>\n",
              "      <td>0</td>\n",
              "      <td>0</td>\n",
              "      <td>0</td>\n",
              "    </tr>\n",
              "  </tbody>\n",
              "</table>\n",
              "</div>"
            ],
            "text/plain": [
              "   transaction_id  product_id  customer_id transaction_date  online_order  \\\n",
              "0               1           2         2950       2017-02-25           0.0   \n",
              "1               2           3         3120       2017-05-21           1.0   \n",
              "2               3          37          402       2017-10-16           0.0   \n",
              "3               4          88         3135       2017-08-31           0.0   \n",
              "4               5          78          787       2017-10-01           1.0   \n",
              "\n",
              "  order_status product_line product_class product_size  list_price  \\\n",
              "0     Approved     Standard        medium       medium       71.49   \n",
              "1     Approved     Standard        medium        large     2091.47   \n",
              "2     Approved     Standard           low       medium     1793.43   \n",
              "3     Approved     Standard        medium       medium     1198.46   \n",
              "4     Approved     Standard        medium        large     1765.30   \n",
              "\n",
              "   standard_cost       profit product_first_sold_date  Giant Bicycles  \\\n",
              "0          53.62   548.405041                   41245               0   \n",
              "1         388.92  1702.550000     2014-03-03 00:00:00               0   \n",
              "2         248.82   548.405041                   36361               0   \n",
              "3         381.10   548.405041                   36145               0   \n",
              "4         709.48  1055.820000     2015-08-10 00:00:00               1   \n",
              "\n",
              "   Norco Bicycles  OHM Cycles  Solex  Trek Bicycles  WeareA2B  \n",
              "0               0           0      1              0         0  \n",
              "1               0           0      0              1         0  \n",
              "2               0           1      0              0         0  \n",
              "3               1           0      0              0         0  \n",
              "4               0           0      0              0         0  "
            ]
          },
          "execution_count": 10,
          "metadata": {},
          "output_type": "execute_result"
        }
      ],
      "source": [
        "df = pd.concat([df, encodings_df], axis=1)\n",
        "df = df.drop(labels=['brand'], axis=1)\n",
        "df.head()"
      ]
    },
    {
      "cell_type": "markdown",
      "id": "d3c78577",
      "metadata": {
        "id": "d3c78577"
      },
      "source": [
        "## Q2.d - Convert an ordinal column to a numeric column\n",
        "We will use **product_class** column."
      ]
    },
    {
      "cell_type": "code",
      "execution_count": 11,
      "id": "92f3eb47",
      "metadata": {
        "ExecuteTime": {
          "end_time": "2021-11-11T08:47:56.702884Z",
          "start_time": "2021-11-11T08:47:56.688883Z"
        },
        "colab": {
          "base_uri": "https://localhost:8080/"
        },
        "id": "92f3eb47",
        "outputId": "b221f97c-2ecb-4cf0-9a33-3eb51aaecc93"
      },
      "outputs": [
        {
          "data": {
            "text/plain": [
              "Index(['medium', 'high', 'low'], dtype='object')"
            ]
          },
          "execution_count": 11,
          "metadata": {},
          "output_type": "execute_result"
        }
      ],
      "source": [
        "df['product_class'].value_counts().keys()"
      ]
    },
    {
      "cell_type": "code",
      "execution_count": 12,
      "id": "54054f42",
      "metadata": {
        "ExecuteTime": {
          "end_time": "2021-11-11T08:47:56.718888Z",
          "start_time": "2021-11-11T08:47:56.703885Z"
        },
        "id": "54054f42"
      },
      "outputs": [],
      "source": [
        "df['product_class'].isna().sum()\n",
        "df['product_class'] = df['product_class'].fillna('medium')"
      ]
    },
    {
      "cell_type": "code",
      "execution_count": 13,
      "id": "b3283a6d",
      "metadata": {
        "ExecuteTime": {
          "end_time": "2021-11-11T08:47:56.734906Z",
          "start_time": "2021-11-11T08:47:56.719889Z"
        },
        "colab": {
          "base_uri": "https://localhost:8080/"
        },
        "id": "b3283a6d",
        "outputId": "033f3596-aa88-4f08-f07f-cecb056bea4b"
      },
      "outputs": [
        {
          "data": {
            "text/plain": [
              "0        0.5\n",
              "1        0.5\n",
              "2        0.0\n",
              "3        0.5\n",
              "4        0.5\n",
              "        ... \n",
              "19995    1.0\n",
              "19996    0.5\n",
              "19997    0.5\n",
              "19998    1.0\n",
              "19999    0.5\n",
              "Name: product_class, Length: 20000, dtype: float64"
            ]
          },
          "execution_count": 13,
          "metadata": {},
          "output_type": "execute_result"
        }
      ],
      "source": [
        "ordinal_scores = {'low': 0, 'medium': 0.5, 'high': 1}\n",
        "df['product_class'] = df['product_class'].apply(lambda rank: ordinal_scores[rank])\n",
        "df['product_class']"
      ]
    },
    {
      "cell_type": "code",
      "execution_count": 14,
      "id": "dad0d749",
      "metadata": {
        "ExecuteTime": {
          "end_time": "2021-11-11T08:47:56.750899Z",
          "start_time": "2021-11-11T08:47:56.736900Z"
        },
        "colab": {
          "base_uri": "https://localhost:8080/"
        },
        "id": "dad0d749",
        "outputId": "5213415d-bb36-46f4-e582-38cb1cc7ed54"
      },
      "outputs": [
        {
          "data": {
            "text/plain": [
              "0.5    14023\n",
              "1.0     3013\n",
              "0.0     2964\n",
              "Name: product_class, dtype: int64"
            ]
          },
          "execution_count": 14,
          "metadata": {},
          "output_type": "execute_result"
        }
      ],
      "source": [
        "df['product_class'].value_counts()"
      ]
    },
    {
      "cell_type": "code",
      "execution_count": 15,
      "id": "468a06ed",
      "metadata": {
        "ExecuteTime": {
          "end_time": "2021-11-11T08:47:56.781222Z",
          "start_time": "2021-11-11T08:47:56.752898Z"
        },
        "colab": {
          "base_uri": "https://localhost:8080/",
          "height": 394
        },
        "id": "468a06ed",
        "outputId": "7bb82a38-5d35-40fe-d0e2-8ba6712b9054"
      },
      "outputs": [
        {
          "data": {
            "text/html": [
              "<div>\n",
              "<style scoped>\n",
              "    .dataframe tbody tr th:only-of-type {\n",
              "        vertical-align: middle;\n",
              "    }\n",
              "\n",
              "    .dataframe tbody tr th {\n",
              "        vertical-align: top;\n",
              "    }\n",
              "\n",
              "    .dataframe thead th {\n",
              "        text-align: right;\n",
              "    }\n",
              "</style>\n",
              "<table border=\"1\" class=\"dataframe\">\n",
              "  <thead>\n",
              "    <tr style=\"text-align: right;\">\n",
              "      <th></th>\n",
              "      <th>transaction_id</th>\n",
              "      <th>product_id</th>\n",
              "      <th>customer_id</th>\n",
              "      <th>transaction_date</th>\n",
              "      <th>online_order</th>\n",
              "      <th>order_status</th>\n",
              "      <th>product_line</th>\n",
              "      <th>product_class</th>\n",
              "      <th>product_size</th>\n",
              "      <th>list_price</th>\n",
              "      <th>standard_cost</th>\n",
              "      <th>profit</th>\n",
              "      <th>product_first_sold_date</th>\n",
              "      <th>Giant Bicycles</th>\n",
              "      <th>Norco Bicycles</th>\n",
              "      <th>OHM Cycles</th>\n",
              "      <th>Solex</th>\n",
              "      <th>Trek Bicycles</th>\n",
              "      <th>WeareA2B</th>\n",
              "    </tr>\n",
              "  </thead>\n",
              "  <tbody>\n",
              "    <tr>\n",
              "      <th>0</th>\n",
              "      <td>1</td>\n",
              "      <td>2</td>\n",
              "      <td>2950</td>\n",
              "      <td>2017-02-25</td>\n",
              "      <td>0.0</td>\n",
              "      <td>Approved</td>\n",
              "      <td>Standard</td>\n",
              "      <td>0.5</td>\n",
              "      <td>medium</td>\n",
              "      <td>71.49</td>\n",
              "      <td>53.62</td>\n",
              "      <td>548.405041</td>\n",
              "      <td>41245</td>\n",
              "      <td>0</td>\n",
              "      <td>0</td>\n",
              "      <td>0</td>\n",
              "      <td>1</td>\n",
              "      <td>0</td>\n",
              "      <td>0</td>\n",
              "    </tr>\n",
              "    <tr>\n",
              "      <th>1</th>\n",
              "      <td>2</td>\n",
              "      <td>3</td>\n",
              "      <td>3120</td>\n",
              "      <td>2017-05-21</td>\n",
              "      <td>1.0</td>\n",
              "      <td>Approved</td>\n",
              "      <td>Standard</td>\n",
              "      <td>0.5</td>\n",
              "      <td>large</td>\n",
              "      <td>2091.47</td>\n",
              "      <td>388.92</td>\n",
              "      <td>1702.550000</td>\n",
              "      <td>2014-03-03 00:00:00</td>\n",
              "      <td>0</td>\n",
              "      <td>0</td>\n",
              "      <td>0</td>\n",
              "      <td>0</td>\n",
              "      <td>1</td>\n",
              "      <td>0</td>\n",
              "    </tr>\n",
              "    <tr>\n",
              "      <th>2</th>\n",
              "      <td>3</td>\n",
              "      <td>37</td>\n",
              "      <td>402</td>\n",
              "      <td>2017-10-16</td>\n",
              "      <td>0.0</td>\n",
              "      <td>Approved</td>\n",
              "      <td>Standard</td>\n",
              "      <td>0.0</td>\n",
              "      <td>medium</td>\n",
              "      <td>1793.43</td>\n",
              "      <td>248.82</td>\n",
              "      <td>548.405041</td>\n",
              "      <td>36361</td>\n",
              "      <td>0</td>\n",
              "      <td>0</td>\n",
              "      <td>1</td>\n",
              "      <td>0</td>\n",
              "      <td>0</td>\n",
              "      <td>0</td>\n",
              "    </tr>\n",
              "    <tr>\n",
              "      <th>3</th>\n",
              "      <td>4</td>\n",
              "      <td>88</td>\n",
              "      <td>3135</td>\n",
              "      <td>2017-08-31</td>\n",
              "      <td>0.0</td>\n",
              "      <td>Approved</td>\n",
              "      <td>Standard</td>\n",
              "      <td>0.5</td>\n",
              "      <td>medium</td>\n",
              "      <td>1198.46</td>\n",
              "      <td>381.10</td>\n",
              "      <td>548.405041</td>\n",
              "      <td>36145</td>\n",
              "      <td>0</td>\n",
              "      <td>1</td>\n",
              "      <td>0</td>\n",
              "      <td>0</td>\n",
              "      <td>0</td>\n",
              "      <td>0</td>\n",
              "    </tr>\n",
              "    <tr>\n",
              "      <th>4</th>\n",
              "      <td>5</td>\n",
              "      <td>78</td>\n",
              "      <td>787</td>\n",
              "      <td>2017-10-01</td>\n",
              "      <td>1.0</td>\n",
              "      <td>Approved</td>\n",
              "      <td>Standard</td>\n",
              "      <td>0.5</td>\n",
              "      <td>large</td>\n",
              "      <td>1765.30</td>\n",
              "      <td>709.48</td>\n",
              "      <td>1055.820000</td>\n",
              "      <td>2015-08-10 00:00:00</td>\n",
              "      <td>1</td>\n",
              "      <td>0</td>\n",
              "      <td>0</td>\n",
              "      <td>0</td>\n",
              "      <td>0</td>\n",
              "      <td>0</td>\n",
              "    </tr>\n",
              "    <tr>\n",
              "      <th>5</th>\n",
              "      <td>6</td>\n",
              "      <td>25</td>\n",
              "      <td>2339</td>\n",
              "      <td>2017-03-08</td>\n",
              "      <td>1.0</td>\n",
              "      <td>Approved</td>\n",
              "      <td>Road</td>\n",
              "      <td>0.5</td>\n",
              "      <td>medium</td>\n",
              "      <td>1538.99</td>\n",
              "      <td>829.65</td>\n",
              "      <td>709.340000</td>\n",
              "      <td>2006-11-10 00:00:00</td>\n",
              "      <td>1</td>\n",
              "      <td>0</td>\n",
              "      <td>0</td>\n",
              "      <td>0</td>\n",
              "      <td>0</td>\n",
              "      <td>0</td>\n",
              "    </tr>\n",
              "    <tr>\n",
              "      <th>6</th>\n",
              "      <td>7</td>\n",
              "      <td>22</td>\n",
              "      <td>1542</td>\n",
              "      <td>2017-04-21</td>\n",
              "      <td>1.0</td>\n",
              "      <td>Approved</td>\n",
              "      <td>Standard</td>\n",
              "      <td>0.5</td>\n",
              "      <td>medium</td>\n",
              "      <td>60.34</td>\n",
              "      <td>45.26</td>\n",
              "      <td>15.080000</td>\n",
              "      <td>1993-07-15 00:00:00</td>\n",
              "      <td>0</td>\n",
              "      <td>0</td>\n",
              "      <td>0</td>\n",
              "      <td>0</td>\n",
              "      <td>0</td>\n",
              "      <td>1</td>\n",
              "    </tr>\n",
              "    <tr>\n",
              "      <th>7</th>\n",
              "      <td>8</td>\n",
              "      <td>15</td>\n",
              "      <td>2459</td>\n",
              "      <td>2017-07-15</td>\n",
              "      <td>0.0</td>\n",
              "      <td>Approved</td>\n",
              "      <td>Standard</td>\n",
              "      <td>0.5</td>\n",
              "      <td>medium</td>\n",
              "      <td>1292.84</td>\n",
              "      <td>13.44</td>\n",
              "      <td>548.405041</td>\n",
              "      <td>39915</td>\n",
              "      <td>0</td>\n",
              "      <td>0</td>\n",
              "      <td>0</td>\n",
              "      <td>0</td>\n",
              "      <td>0</td>\n",
              "      <td>1</td>\n",
              "    </tr>\n",
              "    <tr>\n",
              "      <th>8</th>\n",
              "      <td>9</td>\n",
              "      <td>67</td>\n",
              "      <td>1305</td>\n",
              "      <td>2017-08-10</td>\n",
              "      <td>0.0</td>\n",
              "      <td>Approved</td>\n",
              "      <td>Standard</td>\n",
              "      <td>0.5</td>\n",
              "      <td>large</td>\n",
              "      <td>1071.23</td>\n",
              "      <td>380.74</td>\n",
              "      <td>548.405041</td>\n",
              "      <td>33455</td>\n",
              "      <td>0</td>\n",
              "      <td>0</td>\n",
              "      <td>0</td>\n",
              "      <td>1</td>\n",
              "      <td>0</td>\n",
              "      <td>0</td>\n",
              "    </tr>\n",
              "    <tr>\n",
              "      <th>9</th>\n",
              "      <td>10</td>\n",
              "      <td>12</td>\n",
              "      <td>3262</td>\n",
              "      <td>2017-08-30</td>\n",
              "      <td>1.0</td>\n",
              "      <td>Approved</td>\n",
              "      <td>Standard</td>\n",
              "      <td>0.5</td>\n",
              "      <td>medium</td>\n",
              "      <td>1231.15</td>\n",
              "      <td>161.60</td>\n",
              "      <td>1069.550000</td>\n",
              "      <td>2004-08-17 00:00:00</td>\n",
              "      <td>0</td>\n",
              "      <td>0</td>\n",
              "      <td>0</td>\n",
              "      <td>0</td>\n",
              "      <td>0</td>\n",
              "      <td>1</td>\n",
              "    </tr>\n",
              "  </tbody>\n",
              "</table>\n",
              "</div>"
            ],
            "text/plain": [
              "   transaction_id  product_id  customer_id transaction_date  online_order  \\\n",
              "0               1           2         2950       2017-02-25           0.0   \n",
              "1               2           3         3120       2017-05-21           1.0   \n",
              "2               3          37          402       2017-10-16           0.0   \n",
              "3               4          88         3135       2017-08-31           0.0   \n",
              "4               5          78          787       2017-10-01           1.0   \n",
              "5               6          25         2339       2017-03-08           1.0   \n",
              "6               7          22         1542       2017-04-21           1.0   \n",
              "7               8          15         2459       2017-07-15           0.0   \n",
              "8               9          67         1305       2017-08-10           0.0   \n",
              "9              10          12         3262       2017-08-30           1.0   \n",
              "\n",
              "  order_status product_line  product_class product_size  list_price  \\\n",
              "0     Approved     Standard            0.5       medium       71.49   \n",
              "1     Approved     Standard            0.5        large     2091.47   \n",
              "2     Approved     Standard            0.0       medium     1793.43   \n",
              "3     Approved     Standard            0.5       medium     1198.46   \n",
              "4     Approved     Standard            0.5        large     1765.30   \n",
              "5     Approved         Road            0.5       medium     1538.99   \n",
              "6     Approved     Standard            0.5       medium       60.34   \n",
              "7     Approved     Standard            0.5       medium     1292.84   \n",
              "8     Approved     Standard            0.5        large     1071.23   \n",
              "9     Approved     Standard            0.5       medium     1231.15   \n",
              "\n",
              "   standard_cost       profit product_first_sold_date  Giant Bicycles  \\\n",
              "0          53.62   548.405041                   41245               0   \n",
              "1         388.92  1702.550000     2014-03-03 00:00:00               0   \n",
              "2         248.82   548.405041                   36361               0   \n",
              "3         381.10   548.405041                   36145               0   \n",
              "4         709.48  1055.820000     2015-08-10 00:00:00               1   \n",
              "5         829.65   709.340000     2006-11-10 00:00:00               1   \n",
              "6          45.26    15.080000     1993-07-15 00:00:00               0   \n",
              "7          13.44   548.405041                   39915               0   \n",
              "8         380.74   548.405041                   33455               0   \n",
              "9         161.60  1069.550000     2004-08-17 00:00:00               0   \n",
              "\n",
              "   Norco Bicycles  OHM Cycles  Solex  Trek Bicycles  WeareA2B  \n",
              "0               0           0      1              0         0  \n",
              "1               0           0      0              1         0  \n",
              "2               0           1      0              0         0  \n",
              "3               1           0      0              0         0  \n",
              "4               0           0      0              0         0  \n",
              "5               0           0      0              0         0  \n",
              "6               0           0      0              0         1  \n",
              "7               0           0      0              0         1  \n",
              "8               0           0      1              0         0  \n",
              "9               0           0      0              0         1  "
            ]
          },
          "execution_count": 15,
          "metadata": {},
          "output_type": "execute_result"
        }
      ],
      "source": [
        "df.head(10)"
      ]
    },
    {
      "cell_type": "markdown",
      "id": "a2a7272c",
      "metadata": {
        "id": "a2a7272c"
      },
      "source": [
        "## Q2.e Perform Normalization (MinMax)\n",
        "\n",
        "    - We will perform minmax normalization on 'list_Price', 'standard_ cost', and 'Profit'."
      ]
    },
    {
      "cell_type": "code",
      "execution_count": 16,
      "id": "6391f7ef",
      "metadata": {
        "id": "6391f7ef"
      },
      "outputs": [],
      "source": [
        "minMaxList = ['list_price', 'standard_cost']\n",
        "\n",
        "for colName in minMaxList:\n",
        "    df[colName] = (df[colName]-df[colName].min()) / (df[colName].max()-df[colName].min())"
      ]
    },
    {
      "cell_type": "code",
      "execution_count": 17,
      "id": "01114e8f",
      "metadata": {
        "colab": {
          "base_uri": "https://localhost:8080/",
          "height": 394
        },
        "id": "01114e8f",
        "outputId": "9a789d56-ebe3-4553-edfe-134825f7394d"
      },
      "outputs": [
        {
          "data": {
            "text/html": [
              "<div>\n",
              "<style scoped>\n",
              "    .dataframe tbody tr th:only-of-type {\n",
              "        vertical-align: middle;\n",
              "    }\n",
              "\n",
              "    .dataframe tbody tr th {\n",
              "        vertical-align: top;\n",
              "    }\n",
              "\n",
              "    .dataframe thead th {\n",
              "        text-align: right;\n",
              "    }\n",
              "</style>\n",
              "<table border=\"1\" class=\"dataframe\">\n",
              "  <thead>\n",
              "    <tr style=\"text-align: right;\">\n",
              "      <th></th>\n",
              "      <th>transaction_id</th>\n",
              "      <th>product_id</th>\n",
              "      <th>customer_id</th>\n",
              "      <th>transaction_date</th>\n",
              "      <th>online_order</th>\n",
              "      <th>order_status</th>\n",
              "      <th>product_line</th>\n",
              "      <th>product_class</th>\n",
              "      <th>product_size</th>\n",
              "      <th>list_price</th>\n",
              "      <th>standard_cost</th>\n",
              "      <th>profit</th>\n",
              "      <th>product_first_sold_date</th>\n",
              "      <th>Giant Bicycles</th>\n",
              "      <th>Norco Bicycles</th>\n",
              "      <th>OHM Cycles</th>\n",
              "      <th>Solex</th>\n",
              "      <th>Trek Bicycles</th>\n",
              "      <th>WeareA2B</th>\n",
              "    </tr>\n",
              "  </thead>\n",
              "  <tbody>\n",
              "    <tr>\n",
              "      <th>0</th>\n",
              "      <td>1</td>\n",
              "      <td>2</td>\n",
              "      <td>2950</td>\n",
              "      <td>2017-02-25</td>\n",
              "      <td>0.0</td>\n",
              "      <td>Approved</td>\n",
              "      <td>Standard</td>\n",
              "      <td>0.5</td>\n",
              "      <td>medium</td>\n",
              "      <td>0.028604</td>\n",
              "      <td>0.026480</td>\n",
              "      <td>548.405041</td>\n",
              "      <td>41245</td>\n",
              "      <td>0</td>\n",
              "      <td>0</td>\n",
              "      <td>0</td>\n",
              "      <td>1</td>\n",
              "      <td>0</td>\n",
              "      <td>0</td>\n",
              "    </tr>\n",
              "    <tr>\n",
              "      <th>1</th>\n",
              "      <td>2</td>\n",
              "      <td>3</td>\n",
              "      <td>3120</td>\n",
              "      <td>2017-05-21</td>\n",
              "      <td>1.0</td>\n",
              "      <td>Approved</td>\n",
              "      <td>Standard</td>\n",
              "      <td>0.5</td>\n",
              "      <td>large</td>\n",
              "      <td>1.000000</td>\n",
              "      <td>0.217791</td>\n",
              "      <td>1702.550000</td>\n",
              "      <td>2014-03-03 00:00:00</td>\n",
              "      <td>0</td>\n",
              "      <td>0</td>\n",
              "      <td>0</td>\n",
              "      <td>0</td>\n",
              "      <td>1</td>\n",
              "      <td>0</td>\n",
              "    </tr>\n",
              "    <tr>\n",
              "      <th>2</th>\n",
              "      <td>3</td>\n",
              "      <td>37</td>\n",
              "      <td>402</td>\n",
              "      <td>2017-10-16</td>\n",
              "      <td>0.0</td>\n",
              "      <td>Approved</td>\n",
              "      <td>Standard</td>\n",
              "      <td>0.0</td>\n",
              "      <td>medium</td>\n",
              "      <td>0.856674</td>\n",
              "      <td>0.137855</td>\n",
              "      <td>548.405041</td>\n",
              "      <td>36361</td>\n",
              "      <td>0</td>\n",
              "      <td>0</td>\n",
              "      <td>1</td>\n",
              "      <td>0</td>\n",
              "      <td>0</td>\n",
              "      <td>0</td>\n",
              "    </tr>\n",
              "    <tr>\n",
              "      <th>3</th>\n",
              "      <td>4</td>\n",
              "      <td>88</td>\n",
              "      <td>3135</td>\n",
              "      <td>2017-08-31</td>\n",
              "      <td>0.0</td>\n",
              "      <td>Approved</td>\n",
              "      <td>Standard</td>\n",
              "      <td>0.5</td>\n",
              "      <td>medium</td>\n",
              "      <td>0.570557</td>\n",
              "      <td>0.213330</td>\n",
              "      <td>548.405041</td>\n",
              "      <td>36145</td>\n",
              "      <td>0</td>\n",
              "      <td>1</td>\n",
              "      <td>0</td>\n",
              "      <td>0</td>\n",
              "      <td>0</td>\n",
              "      <td>0</td>\n",
              "    </tr>\n",
              "    <tr>\n",
              "      <th>4</th>\n",
              "      <td>5</td>\n",
              "      <td>78</td>\n",
              "      <td>787</td>\n",
              "      <td>2017-10-01</td>\n",
              "      <td>1.0</td>\n",
              "      <td>Approved</td>\n",
              "      <td>Standard</td>\n",
              "      <td>0.5</td>\n",
              "      <td>large</td>\n",
              "      <td>0.843147</td>\n",
              "      <td>0.400693</td>\n",
              "      <td>1055.820000</td>\n",
              "      <td>2015-08-10 00:00:00</td>\n",
              "      <td>1</td>\n",
              "      <td>0</td>\n",
              "      <td>0</td>\n",
              "      <td>0</td>\n",
              "      <td>0</td>\n",
              "      <td>0</td>\n",
              "    </tr>\n",
              "    <tr>\n",
              "      <th>5</th>\n",
              "      <td>6</td>\n",
              "      <td>25</td>\n",
              "      <td>2339</td>\n",
              "      <td>2017-03-08</td>\n",
              "      <td>1.0</td>\n",
              "      <td>Approved</td>\n",
              "      <td>Road</td>\n",
              "      <td>0.5</td>\n",
              "      <td>medium</td>\n",
              "      <td>0.734316</td>\n",
              "      <td>0.469258</td>\n",
              "      <td>709.340000</td>\n",
              "      <td>2006-11-10 00:00:00</td>\n",
              "      <td>1</td>\n",
              "      <td>0</td>\n",
              "      <td>0</td>\n",
              "      <td>0</td>\n",
              "      <td>0</td>\n",
              "      <td>0</td>\n",
              "    </tr>\n",
              "    <tr>\n",
              "      <th>6</th>\n",
              "      <td>7</td>\n",
              "      <td>22</td>\n",
              "      <td>1542</td>\n",
              "      <td>2017-04-21</td>\n",
              "      <td>1.0</td>\n",
              "      <td>Approved</td>\n",
              "      <td>Standard</td>\n",
              "      <td>0.5</td>\n",
              "      <td>medium</td>\n",
              "      <td>0.023242</td>\n",
              "      <td>0.021710</td>\n",
              "      <td>15.080000</td>\n",
              "      <td>1993-07-15 00:00:00</td>\n",
              "      <td>0</td>\n",
              "      <td>0</td>\n",
              "      <td>0</td>\n",
              "      <td>0</td>\n",
              "      <td>0</td>\n",
              "      <td>1</td>\n",
              "    </tr>\n",
              "    <tr>\n",
              "      <th>7</th>\n",
              "      <td>8</td>\n",
              "      <td>15</td>\n",
              "      <td>2459</td>\n",
              "      <td>2017-07-15</td>\n",
              "      <td>0.0</td>\n",
              "      <td>Approved</td>\n",
              "      <td>Standard</td>\n",
              "      <td>0.5</td>\n",
              "      <td>medium</td>\n",
              "      <td>0.615944</td>\n",
              "      <td>0.003555</td>\n",
              "      <td>548.405041</td>\n",
              "      <td>39915</td>\n",
              "      <td>0</td>\n",
              "      <td>0</td>\n",
              "      <td>0</td>\n",
              "      <td>0</td>\n",
              "      <td>0</td>\n",
              "      <td>1</td>\n",
              "    </tr>\n",
              "    <tr>\n",
              "      <th>8</th>\n",
              "      <td>9</td>\n",
              "      <td>67</td>\n",
              "      <td>1305</td>\n",
              "      <td>2017-08-10</td>\n",
              "      <td>0.0</td>\n",
              "      <td>Approved</td>\n",
              "      <td>Standard</td>\n",
              "      <td>0.5</td>\n",
              "      <td>large</td>\n",
              "      <td>0.509373</td>\n",
              "      <td>0.213124</td>\n",
              "      <td>548.405041</td>\n",
              "      <td>33455</td>\n",
              "      <td>0</td>\n",
              "      <td>0</td>\n",
              "      <td>0</td>\n",
              "      <td>1</td>\n",
              "      <td>0</td>\n",
              "      <td>0</td>\n",
              "    </tr>\n",
              "    <tr>\n",
              "      <th>9</th>\n",
              "      <td>10</td>\n",
              "      <td>12</td>\n",
              "      <td>3262</td>\n",
              "      <td>2017-08-30</td>\n",
              "      <td>1.0</td>\n",
              "      <td>Approved</td>\n",
              "      <td>Standard</td>\n",
              "      <td>0.5</td>\n",
              "      <td>medium</td>\n",
              "      <td>0.586277</td>\n",
              "      <td>0.088090</td>\n",
              "      <td>1069.550000</td>\n",
              "      <td>2004-08-17 00:00:00</td>\n",
              "      <td>0</td>\n",
              "      <td>0</td>\n",
              "      <td>0</td>\n",
              "      <td>0</td>\n",
              "      <td>0</td>\n",
              "      <td>1</td>\n",
              "    </tr>\n",
              "  </tbody>\n",
              "</table>\n",
              "</div>"
            ],
            "text/plain": [
              "   transaction_id  product_id  customer_id transaction_date  online_order  \\\n",
              "0               1           2         2950       2017-02-25           0.0   \n",
              "1               2           3         3120       2017-05-21           1.0   \n",
              "2               3          37          402       2017-10-16           0.0   \n",
              "3               4          88         3135       2017-08-31           0.0   \n",
              "4               5          78          787       2017-10-01           1.0   \n",
              "5               6          25         2339       2017-03-08           1.0   \n",
              "6               7          22         1542       2017-04-21           1.0   \n",
              "7               8          15         2459       2017-07-15           0.0   \n",
              "8               9          67         1305       2017-08-10           0.0   \n",
              "9              10          12         3262       2017-08-30           1.0   \n",
              "\n",
              "  order_status product_line  product_class product_size  list_price  \\\n",
              "0     Approved     Standard            0.5       medium    0.028604   \n",
              "1     Approved     Standard            0.5        large    1.000000   \n",
              "2     Approved     Standard            0.0       medium    0.856674   \n",
              "3     Approved     Standard            0.5       medium    0.570557   \n",
              "4     Approved     Standard            0.5        large    0.843147   \n",
              "5     Approved         Road            0.5       medium    0.734316   \n",
              "6     Approved     Standard            0.5       medium    0.023242   \n",
              "7     Approved     Standard            0.5       medium    0.615944   \n",
              "8     Approved     Standard            0.5        large    0.509373   \n",
              "9     Approved     Standard            0.5       medium    0.586277   \n",
              "\n",
              "   standard_cost       profit product_first_sold_date  Giant Bicycles  \\\n",
              "0       0.026480   548.405041                   41245               0   \n",
              "1       0.217791  1702.550000     2014-03-03 00:00:00               0   \n",
              "2       0.137855   548.405041                   36361               0   \n",
              "3       0.213330   548.405041                   36145               0   \n",
              "4       0.400693  1055.820000     2015-08-10 00:00:00               1   \n",
              "5       0.469258   709.340000     2006-11-10 00:00:00               1   \n",
              "6       0.021710    15.080000     1993-07-15 00:00:00               0   \n",
              "7       0.003555   548.405041                   39915               0   \n",
              "8       0.213124   548.405041                   33455               0   \n",
              "9       0.088090  1069.550000     2004-08-17 00:00:00               0   \n",
              "\n",
              "   Norco Bicycles  OHM Cycles  Solex  Trek Bicycles  WeareA2B  \n",
              "0               0           0      1              0         0  \n",
              "1               0           0      0              1         0  \n",
              "2               0           1      0              0         0  \n",
              "3               1           0      0              0         0  \n",
              "4               0           0      0              0         0  \n",
              "5               0           0      0              0         0  \n",
              "6               0           0      0              0         1  \n",
              "7               0           0      0              0         1  \n",
              "8               0           0      1              0         0  \n",
              "9               0           0      0              0         1  "
            ]
          },
          "execution_count": 17,
          "metadata": {},
          "output_type": "execute_result"
        }
      ],
      "source": [
        "df.head(10)"
      ]
    },
    {
      "cell_type": "markdown",
      "id": "6af8c255",
      "metadata": {
        "id": "6af8c255"
      },
      "source": [
        "## Q2.f Compute Five number Summary of a numeric Column\n",
        "    - We will use the 'Profit' Column for 5 Number summary computation"
      ]
    },
    {
      "cell_type": "code",
      "execution_count": 18,
      "id": "a0700e62",
      "metadata": {
        "colab": {
          "base_uri": "https://localhost:8080/"
        },
        "id": "a0700e62",
        "outputId": "69598d54-6066-4b28-dd5e-6da674dce97b"
      },
      "outputs": [
        {
          "name": "stdout",
          "output_type": "stream",
          "text": [
            "Minimum:  4.8\n",
            "1st Quartile:  448.67999999999995\n",
            "Median:  548.405040558579\n",
            "3rd Quartile 548.405040558579\n",
            "Maximum:  1702.5499999999997\n"
          ]
        }
      ],
      "source": [
        "# 5 NUMBER SUMMARY\n",
        "quartiles = np.percentile(df['profit'], [25, 50, 75 ])\n",
        "\n",
        "print('Minimum: ', df['profit'].min())\n",
        "print('1st Quartile: ', quartiles[0])\n",
        "print('Median: ', quartiles[1])\n",
        "print('3rd Quartile', quartiles[2])\n",
        "print('Maximum: ', df['profit'].max())"
      ]
    },
    {
      "cell_type": "markdown",
      "id": "c6b44dcc",
      "metadata": {
        "id": "c6b44dcc"
      },
      "source": [
        "## Q2.g  Computing Basic Statistics for Profit Column"
      ]
    },
    {
      "cell_type": "code",
      "execution_count": 19,
      "id": "4ef0f846",
      "metadata": {
        "colab": {
          "base_uri": "https://localhost:8080/"
        },
        "id": "4ef0f846",
        "outputId": "4b8d28ed-e3c1-4499-a9b5-9fd7a76ce21c"
      },
      "outputs": [
        {
          "name": "stdout",
          "output_type": "stream",
          "text": [
            "profit Statistics\n",
            "Count:               20000\n",
            "Mean:                548.4050405585788\n",
            "Median:              548.405040558579\n",
            "Mode:                [548.405040558579]\n",
            "Max:                 1702.5499999999997\n",
            "Min:                 4.8\n",
            "Standard Deviation:  343.73297935478604\n",
            "Range:               1697.7499999999998\n"
          ]
        }
      ],
      "source": [
        "column = 'profit'\n",
        "\n",
        "print(f'{column} Statistics')\n",
        "print('Count:              ',len(df[column]))\n",
        "print('Mean:               ',df[column].mean())\n",
        "print('Median:             ',df[column].median())\n",
        "print('Mode:               ',list(df[column].mode()))\n",
        "print('Max:                ',df[column].max())\n",
        "print('Min:                ',df[column].min())\n",
        "print('Standard Deviation: ',df[column].std())\n",
        "print('Range:              ',df[column].max() - df[column].min())"
      ]
    },
    {
      "cell_type": "markdown",
      "id": "bpMqd0whPNS8",
      "metadata": {
        "id": "bpMqd0whPNS8"
      },
      "source": [
        "## Q2.h  Distinct values in a categorical column\n",
        "\n"
      ]
    },
    {
      "cell_type": "code",
      "execution_count": 20,
      "id": "hUJC1ifbPYFL",
      "metadata": {
        "colab": {
          "base_uri": "https://localhost:8080/"
        },
        "id": "hUJC1ifbPYFL",
        "outputId": "a476ac6d-44a4-4172-e281-cc9d55d884af"
      },
      "outputs": [
        {
          "name": "stdout",
          "output_type": "stream",
          "text": [
            "['Standard' 'Road' 'Mountain' 'Touring']\n"
          ]
        }
      ],
      "source": [
        "print(df.product_line.dropna().unique())"
      ]
    },
    {
      "cell_type": "markdown",
      "id": "JxFTnMxHQ9eM",
      "metadata": {
        "id": "JxFTnMxHQ9eM"
      },
      "source": [
        "## Q2.i  Handling outliers"
      ]
    },
    {
      "cell_type": "code",
      "execution_count": 39,
      "id": "On-7vo0RQ-z1",
      "metadata": {
        "colab": {
          "base_uri": "https://localhost:8080/",
          "height": 438
        },
        "id": "On-7vo0RQ-z1",
        "outputId": "8c047118-f371-408c-8662-c6e8159056bd"
      },
      "outputs": [
        {
          "name": "stdout",
          "output_type": "stream",
          "text": [
            "IQR for profit = 99.72504055857905\n",
            "Lower limit of outlier = 299.09243916213137 | Upper limit of outlier = 697.9926013964475\n"
          ]
        },
        {
          "data": {
            "text/plain": [
              "548.405041    41044\n",
              "448.680000      760\n",
              "451.650000      476\n",
              "437.460000      476\n",
              "502.470000      432\n",
              "445.210000      428\n",
              "450.770000      408\n",
              "509.970000      404\n",
              "690.490000      404\n",
              "583.270000      400\n",
              "409.860000      396\n",
              "693.760000      388\n",
              "641.640000      380\n",
              "431.330000      380\n",
              "309.810000      376\n",
              "471.600000      372\n",
              "327.980000      360\n",
              "459.460000      360\n",
              "547.280000      352\n",
              "574.620000      344\n",
              "356.500000      336\n",
              "299.270000      324\n",
              "456.450000      276\n",
              "Name: profit, dtype: int64"
            ]
          },
          "execution_count": 39,
          "metadata": {},
          "output_type": "execute_result"
        }
      ],
      "source": [
        "Q1 = quartiles[0]\n",
        "Q3 = quartiles[2]\n",
        "IQR = Q3-Q1\n",
        "low_lim, upper_lim = Q1 - 1.5*IQR, Q3 + 1.5*IQR\n",
        "print(\"IQR for profit =\", IQR)\n",
        "print(f\"Lower limit of outlier = {low_lim} | Upper limit of outlier = {upper_lim}\")\n",
        "df1 = df[(df['profit'] < upper_lim) & (df['profit'] > low_lim)]\n",
        "df1['profit'].value_counts()"
      ]
    },
    {
      "cell_type": "code",
      "execution_count": 40,
      "id": "ec01ff43",
      "metadata": {},
      "outputs": [
        {
          "data": {
            "text/html": [
              "<div>\n",
              "<style scoped>\n",
              "    .dataframe tbody tr th:only-of-type {\n",
              "        vertical-align: middle;\n",
              "    }\n",
              "\n",
              "    .dataframe tbody tr th {\n",
              "        vertical-align: top;\n",
              "    }\n",
              "\n",
              "    .dataframe thead th {\n",
              "        text-align: right;\n",
              "    }\n",
              "</style>\n",
              "<table border=\"1\" class=\"dataframe\">\n",
              "  <thead>\n",
              "    <tr style=\"text-align: right;\">\n",
              "      <th></th>\n",
              "      <th>transaction_id</th>\n",
              "      <th>product_id</th>\n",
              "      <th>customer_id</th>\n",
              "      <th>transaction_date</th>\n",
              "      <th>online_order</th>\n",
              "      <th>order_status</th>\n",
              "      <th>product_line</th>\n",
              "      <th>product_class</th>\n",
              "      <th>product_size</th>\n",
              "      <th>list_price</th>\n",
              "      <th>standard_cost</th>\n",
              "      <th>profit</th>\n",
              "      <th>product_first_sold_date</th>\n",
              "      <th>Giant Bicycles</th>\n",
              "      <th>Norco Bicycles</th>\n",
              "      <th>OHM Cycles</th>\n",
              "      <th>Solex</th>\n",
              "      <th>Trek Bicycles</th>\n",
              "      <th>WeareA2B</th>\n",
              "    </tr>\n",
              "  </thead>\n",
              "  <tbody>\n",
              "    <tr>\n",
              "      <th>0</th>\n",
              "      <td>1</td>\n",
              "      <td>2</td>\n",
              "      <td>2950</td>\n",
              "      <td>2017-02-25</td>\n",
              "      <td>0.0</td>\n",
              "      <td>Approved</td>\n",
              "      <td>Standard</td>\n",
              "      <td>0.5</td>\n",
              "      <td>medium</td>\n",
              "      <td>0.028604</td>\n",
              "      <td>0.026480</td>\n",
              "      <td>548.405041</td>\n",
              "      <td>41245</td>\n",
              "      <td>0</td>\n",
              "      <td>0</td>\n",
              "      <td>0</td>\n",
              "      <td>1</td>\n",
              "      <td>0</td>\n",
              "      <td>0</td>\n",
              "    </tr>\n",
              "    <tr>\n",
              "      <th>2</th>\n",
              "      <td>3</td>\n",
              "      <td>37</td>\n",
              "      <td>402</td>\n",
              "      <td>2017-10-16</td>\n",
              "      <td>0.0</td>\n",
              "      <td>Approved</td>\n",
              "      <td>Standard</td>\n",
              "      <td>0.0</td>\n",
              "      <td>medium</td>\n",
              "      <td>0.856674</td>\n",
              "      <td>0.137855</td>\n",
              "      <td>548.405041</td>\n",
              "      <td>36361</td>\n",
              "      <td>0</td>\n",
              "      <td>0</td>\n",
              "      <td>1</td>\n",
              "      <td>0</td>\n",
              "      <td>0</td>\n",
              "      <td>0</td>\n",
              "    </tr>\n",
              "    <tr>\n",
              "      <th>3</th>\n",
              "      <td>4</td>\n",
              "      <td>88</td>\n",
              "      <td>3135</td>\n",
              "      <td>2017-08-31</td>\n",
              "      <td>0.0</td>\n",
              "      <td>Approved</td>\n",
              "      <td>Standard</td>\n",
              "      <td>0.5</td>\n",
              "      <td>medium</td>\n",
              "      <td>0.570557</td>\n",
              "      <td>0.213330</td>\n",
              "      <td>548.405041</td>\n",
              "      <td>36145</td>\n",
              "      <td>0</td>\n",
              "      <td>1</td>\n",
              "      <td>0</td>\n",
              "      <td>0</td>\n",
              "      <td>0</td>\n",
              "      <td>0</td>\n",
              "    </tr>\n",
              "    <tr>\n",
              "      <th>7</th>\n",
              "      <td>8</td>\n",
              "      <td>15</td>\n",
              "      <td>2459</td>\n",
              "      <td>2017-07-15</td>\n",
              "      <td>0.0</td>\n",
              "      <td>Approved</td>\n",
              "      <td>Standard</td>\n",
              "      <td>0.5</td>\n",
              "      <td>medium</td>\n",
              "      <td>0.615944</td>\n",
              "      <td>0.003555</td>\n",
              "      <td>548.405041</td>\n",
              "      <td>39915</td>\n",
              "      <td>0</td>\n",
              "      <td>0</td>\n",
              "      <td>0</td>\n",
              "      <td>0</td>\n",
              "      <td>0</td>\n",
              "      <td>1</td>\n",
              "    </tr>\n",
              "    <tr>\n",
              "      <th>8</th>\n",
              "      <td>9</td>\n",
              "      <td>67</td>\n",
              "      <td>1305</td>\n",
              "      <td>2017-08-10</td>\n",
              "      <td>0.0</td>\n",
              "      <td>Approved</td>\n",
              "      <td>Standard</td>\n",
              "      <td>0.5</td>\n",
              "      <td>large</td>\n",
              "      <td>0.509373</td>\n",
              "      <td>0.213124</td>\n",
              "      <td>548.405041</td>\n",
              "      <td>33455</td>\n",
              "      <td>0</td>\n",
              "      <td>0</td>\n",
              "      <td>0</td>\n",
              "      <td>1</td>\n",
              "      <td>0</td>\n",
              "      <td>0</td>\n",
              "    </tr>\n",
              "    <tr>\n",
              "      <th>10</th>\n",
              "      <td>11</td>\n",
              "      <td>5</td>\n",
              "      <td>1986</td>\n",
              "      <td>2017-01-17</td>\n",
              "      <td>0.0</td>\n",
              "      <td>Approved</td>\n",
              "      <td>Mountain</td>\n",
              "      <td>0.0</td>\n",
              "      <td>medium</td>\n",
              "      <td>0.270565</td>\n",
              "      <td>0.258182</td>\n",
              "      <td>548.405041</td>\n",
              "      <td>40784</td>\n",
              "      <td>0</td>\n",
              "      <td>0</td>\n",
              "      <td>0</td>\n",
              "      <td>0</td>\n",
              "      <td>1</td>\n",
              "      <td>0</td>\n",
              "    </tr>\n",
              "    <tr>\n",
              "      <th>13</th>\n",
              "      <td>14</td>\n",
              "      <td>16</td>\n",
              "      <td>2717</td>\n",
              "      <td>2017-09-10</td>\n",
              "      <td>0.0</td>\n",
              "      <td>Approved</td>\n",
              "      <td>Standard</td>\n",
              "      <td>1.0</td>\n",
              "      <td>small</td>\n",
              "      <td>0.793432</td>\n",
              "      <td>0.839819</td>\n",
              "      <td>548.405041</td>\n",
              "      <td>34586</td>\n",
              "      <td>0</td>\n",
              "      <td>1</td>\n",
              "      <td>0</td>\n",
              "      <td>0</td>\n",
              "      <td>0</td>\n",
              "      <td>0</td>\n",
              "    </tr>\n",
              "    <tr>\n",
              "      <th>14</th>\n",
              "      <td>15</td>\n",
              "      <td>12</td>\n",
              "      <td>247</td>\n",
              "      <td>2017-06-11</td>\n",
              "      <td>0.0</td>\n",
              "      <td>Approved</td>\n",
              "      <td>Standard</td>\n",
              "      <td>0.5</td>\n",
              "      <td>large</td>\n",
              "      <td>0.843147</td>\n",
              "      <td>0.400693</td>\n",
              "      <td>548.405041</td>\n",
              "      <td>38193</td>\n",
              "      <td>1</td>\n",
              "      <td>0</td>\n",
              "      <td>0</td>\n",
              "      <td>0</td>\n",
              "      <td>0</td>\n",
              "      <td>0</td>\n",
              "    </tr>\n",
              "    <tr>\n",
              "      <th>15</th>\n",
              "      <td>16</td>\n",
              "      <td>3</td>\n",
              "      <td>2961</td>\n",
              "      <td>2017-10-10</td>\n",
              "      <td>0.0</td>\n",
              "      <td>Approved</td>\n",
              "      <td>Standard</td>\n",
              "      <td>0.5</td>\n",
              "      <td>large</td>\n",
              "      <td>1.000000</td>\n",
              "      <td>0.217791</td>\n",
              "      <td>548.405041</td>\n",
              "      <td>37873</td>\n",
              "      <td>0</td>\n",
              "      <td>0</td>\n",
              "      <td>0</td>\n",
              "      <td>0</td>\n",
              "      <td>1</td>\n",
              "      <td>0</td>\n",
              "    </tr>\n",
              "    <tr>\n",
              "      <th>16</th>\n",
              "      <td>17</td>\n",
              "      <td>79</td>\n",
              "      <td>2426</td>\n",
              "      <td>2017-04-03</td>\n",
              "      <td>0.0</td>\n",
              "      <td>Approved</td>\n",
              "      <td>Standard</td>\n",
              "      <td>0.5</td>\n",
              "      <td>medium</td>\n",
              "      <td>0.742294</td>\n",
              "      <td>0.462616</td>\n",
              "      <td>548.405041</td>\n",
              "      <td>38206</td>\n",
              "      <td>0</td>\n",
              "      <td>1</td>\n",
              "      <td>0</td>\n",
              "      <td>0</td>\n",
              "      <td>0</td>\n",
              "      <td>0</td>\n",
              "    </tr>\n",
              "  </tbody>\n",
              "</table>\n",
              "</div>"
            ],
            "text/plain": [
              "    transaction_id  product_id  customer_id transaction_date  online_order  \\\n",
              "0                1           2         2950       2017-02-25           0.0   \n",
              "2                3          37          402       2017-10-16           0.0   \n",
              "3                4          88         3135       2017-08-31           0.0   \n",
              "7                8          15         2459       2017-07-15           0.0   \n",
              "8                9          67         1305       2017-08-10           0.0   \n",
              "10              11           5         1986       2017-01-17           0.0   \n",
              "13              14          16         2717       2017-09-10           0.0   \n",
              "14              15          12          247       2017-06-11           0.0   \n",
              "15              16           3         2961       2017-10-10           0.0   \n",
              "16              17          79         2426       2017-04-03           0.0   \n",
              "\n",
              "   order_status product_line  product_class product_size  list_price  \\\n",
              "0      Approved     Standard            0.5       medium    0.028604   \n",
              "2      Approved     Standard            0.0       medium    0.856674   \n",
              "3      Approved     Standard            0.5       medium    0.570557   \n",
              "7      Approved     Standard            0.5       medium    0.615944   \n",
              "8      Approved     Standard            0.5        large    0.509373   \n",
              "10     Approved     Mountain            0.0       medium    0.270565   \n",
              "13     Approved     Standard            1.0        small    0.793432   \n",
              "14     Approved     Standard            0.5        large    0.843147   \n",
              "15     Approved     Standard            0.5        large    1.000000   \n",
              "16     Approved     Standard            0.5       medium    0.742294   \n",
              "\n",
              "    standard_cost      profit product_first_sold_date  Giant Bicycles  \\\n",
              "0        0.026480  548.405041                   41245               0   \n",
              "2        0.137855  548.405041                   36361               0   \n",
              "3        0.213330  548.405041                   36145               0   \n",
              "7        0.003555  548.405041                   39915               0   \n",
              "8        0.213124  548.405041                   33455               0   \n",
              "10       0.258182  548.405041                   40784               0   \n",
              "13       0.839819  548.405041                   34586               0   \n",
              "14       0.400693  548.405041                   38193               1   \n",
              "15       0.217791  548.405041                   37873               0   \n",
              "16       0.462616  548.405041                   38206               0   \n",
              "\n",
              "    Norco Bicycles  OHM Cycles  Solex  Trek Bicycles  WeareA2B  \n",
              "0                0           0      1              0         0  \n",
              "2                0           1      0              0         0  \n",
              "3                1           0      0              0         0  \n",
              "7                0           0      0              0         1  \n",
              "8                0           0      1              0         0  \n",
              "10               0           0      0              1         0  \n",
              "13               1           0      0              0         0  \n",
              "14               0           0      0              0         0  \n",
              "15               0           0      0              1         0  \n",
              "16               1           0      0              0         0  "
            ]
          },
          "execution_count": 40,
          "metadata": {},
          "output_type": "execute_result"
        }
      ],
      "source": [
        "df1.head(10)"
      ]
    },
    {
      "cell_type": "markdown",
      "id": "iAtQCh5RQ-PK",
      "metadata": {
        "id": "iAtQCh5RQ-PK"
      },
      "source": [
        "## Q2.j  Visualization\n"
      ]
    },
    {
      "cell_type": "code",
      "execution_count": 54,
      "id": "9TmDlTWjS1I9",
      "metadata": {
        "colab": {
          "base_uri": "https://localhost:8080/",
          "height": 592
        },
        "id": "9TmDlTWjS1I9",
        "outputId": "7bf74ace-17c2-49a2-c401-97ab54e4afc5"
      },
      "outputs": [
        {
          "data": {
            "image/png": "[encoded data removed]",
            "text/plain": [
              "<Figure size 720x720 with 1 Axes>"
            ]
          },
          "metadata": {
            "needs_background": "light"
          },
          "output_type": "display_data"
        }
      ],
      "source": [
        "histogram = df[\"profit\"].hist(figsize=(10,10))\n"
      ]
    },
    {
      "cell_type": "code",
      "execution_count": 62,
      "id": "96gqDys-UJ5Z",
      "metadata": {
        "colab": {
          "base_uri": "https://localhost:8080/",
          "height": 606
        },
        "id": "96gqDys-UJ5Z",
        "outputId": "cde47ce3-1488-4d25-824d-4f91416381cb"
      },
      "outputs": [
        {
          "data": {
            "image/png": "[encoded data removed]",
            "text/plain": [
              "<Figure size 1080x720 with 1 Axes>"
            ]
          },
          "metadata": {
            "needs_background": "light"
          },
          "output_type": "display_data"
        }
      ],
      "source": [
        "scplot = df.plot.scatter(x=\"transaction_id\", y=\"standard_cost\", c=\"red\",figsize=(15,10))"
      ]
    },
    {
      "cell_type": "code",
      "execution_count": 58,
      "id": "Bo36ujEdVtzK",
      "metadata": {
        "colab": {
          "base_uri": "https://localhost:8080/",
          "height": 592
        },
        "id": "Bo36ujEdVtzK",
        "outputId": "d984e9b8-3b4e-4d5c-c381-ff69f5f6c0e8"
      },
      "outputs": [
        {
          "data": {
            "image/png": "[encoded data removed]",
            "text/plain": [
              "<Figure size 1080x720 with 1 Axes>"
            ]
          },
          "metadata": {
            "needs_background": "light"
          },
          "output_type": "display_data"
        }
      ],
      "source": [
        "boxplot = df.boxplot(column=['list_price','profit','standard_cost'], figsize=(15,10))"
      ]
    },
    {
      "cell_type": "markdown",
      "id": "EZcHxyNqQ-Vy",
      "metadata": {
        "id": "EZcHxyNqQ-Vy"
      },
      "source": [
        "## Q2.k  Creating X and Y and splitting into train test\n"
      ]
    },
    {
      "cell_type": "code",
      "execution_count": 69,
      "id": "JHV0Fs7DaRjw",
      "metadata": {
        "colab": {
          "base_uri": "https://localhost:8080/"
        },
        "id": "JHV0Fs7DaRjw",
        "outputId": "7a13727f-71ad-4901-99d7-1e5d1b7f4d33"
      },
      "outputs": [
        {
          "name": "stdout",
          "output_type": "stream",
          "text": [
            "       transaction_id  product_id  customer_id  ... Solex  Trek Bicycles WeareA2B\n",
            "4608             4609          20          248  ...     0              1        0\n",
            "8011             8012           5         3359  ...     0              1        0\n",
            "13015           13016          78         2464  ...     0              0        0\n",
            "1500             1501          52         2457  ...     1              0        0\n",
            "3757             3758           1         2570  ...     0              0        0\n",
            "5712             5713          54         3460  ...     0              0        1\n",
            "1762             1763           1         2486  ...     0              0        0\n",
            "3218             3219          19          477  ...     0              1        0\n",
            "15930           15931          78         2504  ...     0              0        0\n",
            "6311             6312          99          829  ...     0              1        0\n",
            "\n",
            "[10 rows x 19 columns]\n",
            "       transaction_id  product_id  customer_id  ... Solex  Trek Bicycles WeareA2B\n",
            "16133           16134           4         1457  ...     0              0        0\n",
            "11674           11675           3         2755  ...     0              1        0\n",
            "2601             2602          10          347  ...     0              0        1\n",
            "54                 55           0         3140  ...     0              0        0\n",
            "3684             3685           4         3054  ...     0              0        0\n",
            "12617           12618          28         2092  ...     1              0        0\n",
            "7492             7493           1         3482  ...     0              0        0\n",
            "19890           19891          87         1651  ...     0              0        0\n",
            "2055             2056           0         2285  ...     0              0        0\n",
            "7783             7784          49          568  ...     0              1        0\n",
            "\n",
            "[10 rows x 19 columns]\n"
          ]
        }
      ],
      "source": [
        "trainset, testset = train_test_split(df, test_size=0.2)\n",
        "print(trainset.head(10))\n",
        "print(testset.head(10))"
      ]
    },
    {
      "cell_type": "code",
      "execution_count": 72,
      "id": "BR_GZ16WbuAE",
      "metadata": {
        "colab": {
          "base_uri": "https://localhost:8080/"
        },
        "id": "BR_GZ16WbuAE",
        "outputId": "128c9094-64d0-46f9-bd93-3970380a054f"
      },
      "outputs": [
        {
          "name": "stdout",
          "output_type": "stream",
          "text": [
            "Size of Train set = 16000\n",
            "Size of Test set = 4000\n"
          ]
        }
      ],
      "source": [
        "print(\"Size of Train set =\", len(trainset))\n",
        "print(\"Size of Test set =\", len(testset))"
      ]
    }
  ],
  "metadata": {
    "colab": {
      "collapsed_sections": [],
      "name": "Project_Phase1_Group15.ipynb",
      "provenance": []
    },
    "kernelspec": {
      "display_name": "Python 3 (ipykernel)",
      "language": "python",
      "name": "python3"
    },
    "language_info": {
      "codemirror_mode": {
        "name": "ipython",
        "version": 3
      },
      "file_extension": ".py",
      "mimetype": "text/x-python",
      "name": "python",
      "nbconvert_exporter": "python",
      "pygments_lexer": "ipython3",
      "version": "3.8.4"
    },
    "toc": {
      "base_numbering": 1,
      "nav_menu": {},
      "number_sections": true,
      "sideBar": true,
      "skip_h1_title": false,
      "title_cell": "Table of Contents",
      "title_sidebar": "Contents",
      "toc_cell": false,
      "toc_position": {},
      "toc_section_display": true,
      "toc_window_display": false
    }
  },
  "nbformat": 4,
  "nbformat_minor": 5
}
