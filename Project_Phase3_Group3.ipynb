{
 "cells": [
  {
   "cell_type": "markdown",
   "metadata": {},
   "source": [
    "# **Introduction**\n",
    "In this notebook, we will execute phase3 of the ICS474 project. \n",
    "\n",
    "\n",
    "### **Table of Contents**\n",
    "1. Finding a \"Big Dataset\" - 1.14GB - ADULTS DATASET.\n",
    "2. Detailed description of the dataset.\n",
    "3. Importing libraries and setting up PySpark.\n",
    "4. Preprocessing the dataset.\n",
    "5. Sampling the data.\n",
    "6. Building Kmeans clustering algorithm with different k values and plotting the error rates.\n",
    "7. Using the model.\n",
    "\n",
    "<br></br>\n",
    "Team members (Group3):\n",
    " - Amaan Izhar (201781130/Section02)\n",
    " - Farhan M. Abdul Qadir (201771950/Section02)\n",
    " - AbdulJawad Mohammad (201744310/Section03) "
   ]
  },
  {
   "cell_type": "markdown",
   "metadata": {},
   "source": [
    "### **Finding a \"Big Dataset\" - 1.14GB - ADULTS DATASET.**\n",
    "We found the dataset on Kaggle. Its size is 1.14GB. \n",
    "\n",
    "Link: https://www.kaggle.com/brijeshbmehta/adult-datasets?select=adult10m\n"
   ]
  },
  {
   "cell_type": "markdown",
   "metadata": {},
   "source": [
    "### **Detailed description of the dataset.**\n",
    "   - Dataset Task: Predict whether the income of each adult exceeds $50K per year based on census data.\n",
    "   - List of Attributes:\n",
    "       1. Continuous Features:\n",
    "           - <b>age</b>\n",
    "           - <b>fnlwgt(Final Weight)</b>\n",
    "           - <b>education-num</b>\n",
    "           - <b>capital-gain</b>\n",
    "           - <b>capital-loss</b>\n",
    "           - <b>hourse-per-week</b>\n",
    "       2. Categorical Features:\n",
    "           - <b>workclass</b>: Private, Self-emp-not-inc, Self-emp-inc, Federal-gov, Local-gov, State-gov, Without-pay, Never-worked.\n",
    "fnlwgt: continuous\n",
    "           - <b>education</b>: Bachelors, Some-college, 11th, HS-grad, Prof-school, Assoc-acdm, Assoc-voc, 9th, 7th-8th, 12th, Masters, 1st-4th, 10th, Doctorate, 5th-6th, Preschool\n",
    "           - <b>marital-status</b>: Married-civ-spouse, Divorced, Never-married, Separated, Widowed, Married-spouse-absent, Married-AF-spouse.\n",
    "           - <b>occupation</b>: Tech-support, Craft-repair, Other-service, Sales, Exec-managerial, Prof-specialty, Handlers-cleaners, Machine-op-inspct, Adm-clerical, Farming-fishing, Transport-moving, Priv-house-serv, Protective-serv, Armed-Forces.\n",
    "           - <b>relationship</b>: Wife, Own-child, Husband, Not-in-family, Other-relative, Unmarried\n",
    "           - <b>race</b>: White, Asian-Pac-Islander, Amer-Indian-Eskimo, Other, Black\n",
    "           - <b>sex</b>: Female, Male\n",
    "           - <b>native-country</b>: United-States, Cambodia, England, Puerto-Rico, Canada, Germany, Outlying-US(Guam-USVI-etc), India, Japan, Greece, South, China, Cuba, Iran, Honduras, Philippines, Italy, Poland, Jamaica, Vietnam, Mexico, Portugal, Ireland, France, Dominican-Republic, Laos, Ecuador, Taiwan, Haiti, Columbia, Hungary, Guatemala, Nicaragua, Scotland, Thailand, Yugoslavia, El-Salvador, Trinadad&Tobago, Peru, Hong, Holand-Netherlands\n",
    "           - <b>SalaryClass</b>: <=50k OR >50k"
   ]
  },
  {
   "cell_type": "markdown",
   "metadata": {},
   "source": [
    "### **Importing libraries and setting up PySpark.**"
   ]
  },
  {
   "cell_type": "code",
   "execution_count": 1,
   "metadata": {},
   "outputs": [
    {
     "name": "stdout",
     "output_type": "stream",
     "text": [
      "Spark dependency found -> C:\\Spark\\spark-3.0.3-bin-hadoop2.7\n"
     ]
    }
   ],
   "source": [
    "import findspark\n",
    "findspark.init()\n",
    "print(f'Spark dependency found -> {findspark.find()}')"
   ]
  },
  {
   "cell_type": "code",
   "execution_count": 15,
   "metadata": {},
   "outputs": [],
   "source": [
    "from pyspark.sql import SparkSession\n",
    "from pyspark.sql.functions import isnan, when, count, col, countDistinct\n",
    "from pyspark.ml.feature import VectorAssembler, StandardScaler, StringIndexer, OneHotEncoder\n",
    "from pyspark.ml.evaluation import ClusteringEvaluator\n",
    "from pyspark.ml.clustering import KMeans\n",
    "\n",
    "import matplotlib.pyplot as plt "
   ]
  },
  {
   "cell_type": "code",
   "execution_count": 3,
   "metadata": {},
   "outputs": [],
   "source": [
    "# Setting up spark.\n",
    "spark = SparkSession.builder.appName('ICS474Project').getOrCreate()"
   ]
  },
  {
   "cell_type": "markdown",
   "metadata": {},
   "source": [
    "### **Preprocessing the dataset.**"
   ]
  },
  {
   "cell_type": "code",
   "execution_count": 4,
   "metadata": {},
   "outputs": [],
   "source": [
    "df = spark.read.csv(path='adult10m', sep=',', inferSchema=False)"
   ]
  },
  {
   "cell_type": "code",
   "execution_count": 5,
   "metadata": {},
   "outputs": [
    {
     "name": "stdout",
     "output_type": "stream",
     "text": [
      "+---+----------------+------+---------+---+------------------+-----------------+-------------+-----+------+----+---+---+-------------+-----------+\n",
      "|a  |wc              |fw    |ed       |edN|ms                |oc               |rel          |race |sex   |cg  |cl |hpw|nc           |salaryClass|\n",
      "+---+----------------+------+---------+---+------------------+-----------------+-------------+-----+------+----+---+---+-------------+-----------+\n",
      "|39 |State-gov       |77516 |Bachelors|13 |Never-married     |Adm-clerical     |Not-in-family|White|Male  |2174|0  |40 |United-States|<=50K      |\n",
      "|50 |Self-emp-not-inc|83311 |Bachelors|13 |Married-civ-spouse|Exec-managerial  |Husband      |White|Male  |0   |0  |13 |United-States|<=50K      |\n",
      "|38 |Private         |215646|HS-grad  |9  |Divorced          |Handlers-cleaners|Not-in-family|White|Male  |0   |0  |40 |United-States|<=50K      |\n",
      "|53 |Private         |234721|11th     |7  |Married-civ-spouse|Handlers-cleaners|Husband      |Black|Male  |0   |0  |40 |United-States|<=50K      |\n",
      "|28 |Private         |338409|Bachelors|13 |Married-civ-spouse|Prof-specialty   |Wife         |Black|Female|0   |0  |40 |Cuba         |<=50K      |\n",
      "+---+----------------+------+---------+---+------------------+-----------------+-------------+-----+------+----+---+---+-------------+-----------+\n",
      "only showing top 5 rows\n",
      "\n"
     ]
    }
   ],
   "source": [
    "columns = ['a', 'wc', 'fw', 'ed', 'edN', \n",
    "           'ms', 'oc', 'rel', 'race', 'sex', \n",
    "           'cg', 'cl', 'hpw', 'nc', 'salaryClass']\n",
    "\n",
    "df = df.toDF(*columns)\n",
    "df.show(5, truncate=False)"
   ]
  },
  {
   "cell_type": "code",
   "execution_count": 6,
   "metadata": {},
   "outputs": [
    {
     "name": "stdout",
     "output_type": "stream",
     "text": [
      "df shape = 10000000, 15\n"
     ]
    }
   ],
   "source": [
    "print(f'df shape = {df.count()}, {len(df.columns)}')"
   ]
  },
  {
   "cell_type": "code",
   "execution_count": 37,
   "metadata": {},
   "outputs": [
    {
     "name": "stdout",
     "output_type": "stream",
     "text": [
      "+---+---+---+---+---+---+---+---+----+---+---+---+---+---+-----------+\n",
      "|  a| wc| fw| ed|edN| ms| oc|rel|race|sex| cg| cl|hpw| nc|salaryClass|\n",
      "+---+---+---+---+---+---+---+---+----+---+---+---+---+---+-----------+\n",
      "|  0|  0|  0|  0|  0|  0|  0|  0|   0|  0|  0|  0|  0|  0|          0|\n",
      "+---+---+---+---+---+---+---+---+----+---+---+---+---+---+-----------+\n",
      "\n"
     ]
    }
   ],
   "source": [
    "df.select([count(when(isnan(c) | col(c).isNull(), c)).alias(c) for c in df.columns]).show()"
   ]
  },
  {
   "cell_type": "code",
   "execution_count": 17,
   "metadata": {},
   "outputs": [
    {
     "name": "stdout",
     "output_type": "stream",
     "text": [
      "+---+---+----+---+---+----+-----+-----+---+-------------+\n",
      "| as|wcs|edNs|mss|ocs|rels|races|sexes|ncs|salaryClasses|\n",
      "+---+---+----+---+---+----+-----+-----+---+-------------+\n",
      "| 73|  9|  16|  7| 15|   6|    5|    2| 42|            2|\n",
      "+---+---+----+---+---+----+-----+-----+---+-------------+\n",
      "\n"
     ]
    }
   ],
   "source": [
    "df.select(countDistinct(\"a\").alias(\"as\"),\n",
    "          countDistinct(\"wc\").alias(\"wcs\"), \n",
    "          countDistinct('edN').alias(\"edNs\"), \n",
    "          countDistinct('ms').alias(\"mss\"),\n",
    "          countDistinct('oc').alias(\"ocs\"),\n",
    "          countDistinct('rel').alias(\"rels\"), \n",
    "          countDistinct('race').alias(\"races\"), \n",
    "          countDistinct('sex').alias(\"sexes\"), \n",
    "          countDistinct('nc').alias(\"ncs\"), \n",
    "          countDistinct('salaryClass').alias(\"salaryClasses\")\n",
    "          ).show()"
   ]
  },
  {
   "cell_type": "code",
   "execution_count": 10,
   "metadata": {},
   "outputs": [
    {
     "name": "stdout",
     "output_type": "stream",
     "text": [
      "+----------------+-------+\n",
      "|              wc|  count|\n",
      "+----------------+-------+\n",
      "|Self-emp-not-inc|1110296|\n",
      "|       Local-gov|1110045|\n",
      "|       State-gov|1108295|\n",
      "|         Private|1129254|\n",
      "|     Without-pay|1106759|\n",
      "|     Federal-gov|1108964|\n",
      "|    Never-worked|1106779|\n",
      "|               ?|1110548|\n",
      "|    Self-emp-inc|1109060|\n",
      "+----------------+-------+\n",
      "\n",
      "+---+------+\n",
      "|edN| count|\n",
      "+---+------+\n",
      "|  7|623919|\n",
      "| 15|624516|\n",
      "| 11|624818|\n",
      "|  3|621756|\n",
      "|  8|623454|\n",
      "| 16|623397|\n",
      "|  5|623844|\n",
      "|  6|623061|\n",
      "|  9|633268|\n",
      "|  1|622270|\n",
      "| 10|630730|\n",
      "|  4|623699|\n",
      "| 12|623620|\n",
      "| 13|629065|\n",
      "| 14|624905|\n",
      "|  2|623678|\n",
      "+---+------+\n",
      "\n",
      "+--------------------+-------+\n",
      "|                  ms|  count|\n",
      "+--------------------+-------+\n",
      "|           Separated|1423556|\n",
      "|       Never-married|1433420|\n",
      "|Married-spouse-ab...|1426068|\n",
      "|            Divorced|1428751|\n",
      "|             Widowed|1426311|\n",
      "|   Married-AF-spouse|1423834|\n",
      "|  Married-civ-spouse|1438060|\n",
      "+--------------------+-------+\n",
      "\n",
      "+-----------------+------+\n",
      "|               oc| count|\n",
      "+-----------------+------+\n",
      "|            Sales|669391|\n",
      "|  Exec-managerial|668120|\n",
      "|   Prof-specialty|667983|\n",
      "|Handlers-cleaners|666092|\n",
      "|  Farming-fishing|665458|\n",
      "|     Craft-repair|668845|\n",
      "| Transport-moving|665755|\n",
      "|  Priv-house-serv|666141|\n",
      "|  Protective-serv|665134|\n",
      "|    Other-service|667307|\n",
      "|     Tech-support|666043|\n",
      "|Machine-op-inspct|666409|\n",
      "|     Armed-Forces|664604|\n",
      "|                ?|664720|\n",
      "|     Adm-clerical|667998|\n",
      "+-----------------+------+\n",
      "\n",
      "+--------------+-------+\n",
      "|           rel|  count|\n",
      "+--------------+-------+\n",
      "|     Own-child|1665327|\n",
      "| Not-in-family|1667966|\n",
      "|     Unmarried|1665499|\n",
      "|          Wife|1662874|\n",
      "|Other-relative|1661347|\n",
      "|       Husband|1676987|\n",
      "+--------------+-------+\n",
      "\n",
      "+------------------+-------+\n",
      "|              race|  count|\n",
      "+------------------+-------+\n",
      "|             Other|1993199|\n",
      "|Amer-Indian-Eskimo|1992804|\n",
      "|             White|2022489|\n",
      "|Asian-Pac-Islander|1993385|\n",
      "|             Black|1998123|\n",
      "+------------------+-------+\n",
      "\n",
      "+------+-------+\n",
      "|   sex|  count|\n",
      "+------+-------+\n",
      "|Female|4993804|\n",
      "|  Male|5006196|\n",
      "+------+-------+\n",
      "\n",
      "+------------------+------+\n",
      "|                nc| count|\n",
      "+------------------+------+\n",
      "|       Philippines|237818|\n",
      "|           Germany|237207|\n",
      "|          Cambodia|236855|\n",
      "|            France|237060|\n",
      "|            Greece|238126|\n",
      "|            Taiwan|237352|\n",
      "|           Ecuador|237848|\n",
      "|         Nicaragua|237367|\n",
      "|              Hong|237020|\n",
      "|              Peru|237345|\n",
      "|             India|237656|\n",
      "|             China|236381|\n",
      "|             Italy|237344|\n",
      "|Holand-Netherlands|238206|\n",
      "|              Cuba|237847|\n",
      "|             South|237356|\n",
      "|              Iran|237379|\n",
      "|           Ireland|236718|\n",
      "|          Thailand|237744|\n",
      "|              Laos|236585|\n",
      "|       El-Salvador|237399|\n",
      "|            Mexico|238131|\n",
      "|         Guatemala|237229|\n",
      "|          Honduras|236848|\n",
      "|        Yugoslavia|238139|\n",
      "|       Puerto-Rico|237139|\n",
      "|           Jamaica|238136|\n",
      "|            Canada|237356|\n",
      "|     United-States|266065|\n",
      "|Dominican-Republic|238174|\n",
      "+------------------+------+\n",
      "only showing top 30 rows\n",
      "\n",
      "+-----------+-------+\n",
      "|salaryClass|  count|\n",
      "+-----------+-------+\n",
      "|      <=50K|5006729|\n",
      "|       >50K|4993271|\n",
      "+-----------+-------+\n",
      "\n"
     ]
    }
   ],
   "source": [
    "df.groupBy(df['wc']).count().show()\n",
    "df.groupBy(df['edN']).count().show()\n",
    "df.groupBy(df['ms']).count().show()\n",
    "df.groupBy(df['oc']).count().show()\n",
    "df.groupBy(df['rel']).count().show()\n",
    "df.groupBy(df['race']).count().show()\n",
    "df.groupBy(df['sex']).count().show()\n",
    "df.groupBy(df['nc']).count().show(30)\n",
    "df.groupBy(df['salaryClass']).count().show()"
   ]
  },
  {
   "cell_type": "code",
   "execution_count": 14,
   "metadata": {},
   "outputs": [
    {
     "name": "stdout",
     "output_type": "stream",
     "text": [
      "+----+--------+------+---+----+----------------+---+-----------------+-----------+\n",
      "|   a|      fw|    cg| cl| hpw|              wc|edN|               oc|salaryClass|\n",
      "+----+--------+------+---+----+----------------+---+-----------------+-----------+\n",
      "|39.0| 77516.0|2174.0|0.0|40.0|       State-gov| 13|     Adm-clerical|      <=50K|\n",
      "|50.0| 83311.0|   0.0|0.0|13.0|Self-emp-not-inc| 13|  Exec-managerial|      <=50K|\n",
      "|38.0|215646.0|   0.0|0.0|40.0|         Private|  9|Handlers-cleaners|      <=50K|\n",
      "|53.0|234721.0|   0.0|0.0|40.0|         Private|  7|Handlers-cleaners|      <=50K|\n",
      "|28.0|338409.0|   0.0|0.0|40.0|         Private| 13|   Prof-specialty|      <=50K|\n",
      "+----+--------+------+---+----+----------------+---+-----------------+-----------+\n",
      "only showing top 5 rows\n",
      "\n"
     ]
    }
   ],
   "source": [
    "df_new = df.select(col('a').cast('double'), col('fw').cast('double'), \n",
    "                      col('cg').cast('double'), col('cl').cast('double'),\n",
    "                      col('hpw').cast('double'), 'wc', 'edN', 'oc', 'salaryClass')\n",
    "df_new.show(5)"
   ]
  },
  {
   "cell_type": "code",
   "execution_count": 16,
   "metadata": {},
   "outputs": [
    {
     "name": "stdout",
     "output_type": "stream",
     "text": [
      "+----+--------+------+---+----+-----+------+-----+--------------+\n",
      "|   a|      fw|    cg| cl| hpw|wc_si|edN_si|oc_si|salaryClass_si|\n",
      "+----+--------+------+---+----+-----+------+-----+--------------+\n",
      "|39.0| 77516.0|2174.0|0.0|40.0|  6.0|   2.0|  3.0|           0.0|\n",
      "|50.0| 83311.0|   0.0|0.0|13.0|  2.0|   2.0|  2.0|           0.0|\n",
      "|38.0|215646.0|   0.0|0.0|40.0|  0.0|   0.0|  8.0|           0.0|\n",
      "|53.0|234721.0|   0.0|0.0|40.0|  0.0|   6.0|  8.0|           0.0|\n",
      "|28.0|338409.0|   0.0|0.0|40.0|  0.0|   2.0|  4.0|           0.0|\n",
      "+----+--------+------+---+----+-----+------+-----+--------------+\n",
      "only showing top 5 rows\n",
      "\n",
      "+----+--------+------+---+----+-----+------+-----+--------------+-------------+--------------+--------------+\n",
      "|a   |fw      |cg    |cl |hpw |wc_si|edN_si|oc_si|salaryClass_si|wc_ohe       |edN_ohe       |oc_ohe        |\n",
      "+----+--------+------+---+----+-----+------+-----+--------------+-------------+--------------+--------------+\n",
      "|39.0|77516.0 |2174.0|0.0|40.0|6.0  |2.0   |3.0  |0.0           |(8,[6],[1.0])|(15,[2],[1.0])|(14,[3],[1.0])|\n",
      "|50.0|83311.0 |0.0   |0.0|13.0|2.0  |2.0   |2.0  |0.0           |(8,[2],[1.0])|(15,[2],[1.0])|(14,[2],[1.0])|\n",
      "|38.0|215646.0|0.0   |0.0|40.0|0.0  |0.0   |8.0  |0.0           |(8,[0],[1.0])|(15,[0],[1.0])|(14,[8],[1.0])|\n",
      "|53.0|234721.0|0.0   |0.0|40.0|0.0  |6.0   |8.0  |0.0           |(8,[0],[1.0])|(15,[6],[1.0])|(14,[8],[1.0])|\n",
      "|28.0|338409.0|0.0   |0.0|40.0|0.0  |2.0   |4.0  |0.0           |(8,[0],[1.0])|(15,[2],[1.0])|(14,[4],[1.0])|\n",
      "+----+--------+------+---+----+-----+------+-----+--------------+-------------+--------------+--------------+\n",
      "only showing top 5 rows\n",
      "\n",
      "+--------------------+--------------------+---------------------+-----+--------------------+-------------+--------------+--------------+\n",
      "|a_sc                |fw_sc               |cg_sc                |cl_sc|hpw_sc              |wc_ohe       |edN_ohe       |oc_ohe        |\n",
      "+--------------------+--------------------+---------------------+-----+--------------------+-------------+--------------+--------------+\n",
      "|[1.8487061379573442]|[0.6877735810696858]|[0.19880196875001743]|[0.0]|[1.407781753443814] |(8,[6],[1.0])|(15,[2],[1.0])|(14,[3],[1.0])|\n",
      "|[2.3701360743042876]|[0.7391906807948887]|[0.0]                |[0.0]|[0.4575290698692395]|(8,[2],[1.0])|(15,[2],[1.0])|(14,[2],[1.0])|\n",
      "|[1.8013034164712585]|[1.9133549417327194]|[0.0]                |[0.0]|[1.407781753443814] |(8,[0],[1.0])|(15,[0],[1.0])|(14,[8],[1.0])|\n",
      "|[2.5123442387625445]|[2.082601046522753] |[0.0]                |[0.0]|[1.407781753443814] |(8,[0],[1.0])|(15,[6],[1.0])|(14,[8],[1.0])|\n",
      "|[1.327276201610401] |[3.0025900432970136]|[0.0]                |[0.0]|[1.407781753443814] |(8,[0],[1.0])|(15,[2],[1.0])|(14,[4],[1.0])|\n",
      "+--------------------+--------------------+---------------------+-----+--------------------+-------------+--------------+--------------+\n",
      "only showing top 5 rows\n",
      "\n",
      "+-----------------------------------------------------------------------------------------------------------------+\n",
      "|features                                                                                                         |\n",
      "+-----------------------------------------------------------------------------------------------------------------+\n",
      "|(42,[0,1,2,4,11,15,31],[1.8487061379573442,0.6877735810696858,0.19880196875001743,1.407781753443814,1.0,1.0,1.0])|\n",
      "|(42,[0,1,4,7,15,30],[2.3701360743042876,0.7391906807948887,0.4575290698692395,1.0,1.0,1.0])                      |\n",
      "|(42,[0,1,4,5,13,36],[1.8013034164712585,1.9133549417327194,1.407781753443814,1.0,1.0,1.0])                       |\n",
      "|(42,[0,1,4,5,19,36],[2.5123442387625445,2.082601046522753,1.407781753443814,1.0,1.0,1.0])                        |\n",
      "|(42,[0,1,4,5,15,32],[1.327276201610401,3.0025900432970136,1.407781753443814,1.0,1.0,1.0])                        |\n",
      "+-----------------------------------------------------------------------------------------------------------------+\n",
      "only showing top 5 rows\n",
      "\n"
     ]
    }
   ],
   "source": [
    "# Indexing categorical features.\n",
    "indexer = StringIndexer(inputCols=['wc', 'edN', 'oc', 'salaryClass'], outputCols=['wc_si', 'edN_si', 'oc_si', 'salaryClass_si']) \n",
    "df_indexed = indexer.fit(df_new).transform(df_new) \n",
    "df_indexed = df_indexed.drop(*['wc', 'edN', 'oc', 'salaryClass'])\n",
    "df_indexed.show(5)\n",
    "\n",
    "# One hot encoding the categorical features.\n",
    "onehot = OneHotEncoder(inputCols=['wc_si', 'edN_si', 'oc_si'], outputCols=['wc_ohe', 'edN_ohe', 'oc_ohe'])\n",
    "df_ohe = onehot.fit(df_indexed).transform(df_indexed)\n",
    "df_ohe.show(5, truncate=False)\n",
    "\n",
    "for col in ['a', 'fw', 'cg', 'cl', 'hpw']:\n",
    "    assembler = VectorAssembler(inputCols=[col], outputCol=f'{col}_vec')\n",
    "    df_ohe = assembler.transform(df_ohe)\n",
    "\n",
    "    scaler = StandardScaler(inputCol=f'{col}_vec', outputCol=f'{col}_sc')\n",
    "    df_ohe = scaler.fit(df_ohe).transform(df_ohe)\n",
    "\n",
    "\n",
    "df_clean = df_ohe.select(['a_sc', 'fw_sc', 'cg_sc', 'cl_sc', 'hpw_sc', 'wc_ohe', 'edN_ohe', 'oc_ohe'])\n",
    "df_clean.show(5, False)\n",
    "\n",
    "final_assembler = VectorAssembler(inputCols=['a_sc', 'fw_sc', 'cg_sc', 'cl_sc', 'hpw_sc', 'wc_ohe', 'edN_ohe', 'oc_ohe'], outputCol='features')\n",
    "final_df = final_assembler.transform(df_clean)\n",
    "final_df = final_df.select(['features'])\n",
    "final_df.show(5, False)"
   ]
  },
  {
   "cell_type": "markdown",
   "metadata": {},
   "source": [
    "### **Sampling the data.**"
   ]
  },
  {
   "cell_type": "markdown",
   "metadata": {},
   "source": [
    "As the dataset is huge (10M rows), we will take a sample of it i.e. 40-70% of the data will be sampled first."
   ]
  },
  {
   "cell_type": "code",
   "execution_count": 17,
   "metadata": {},
   "outputs": [
    {
     "name": "stdout",
     "output_type": "stream",
     "text": [
      "Size of 40% of sampled data = 4000664\n"
     ]
    }
   ],
   "source": [
    "final_df = final_df.sample(fraction=0.4, seed=3)\n",
    "print(f'Size of 40% of sampled data = {final_df.count()}')"
   ]
  },
  {
   "cell_type": "code",
   "execution_count": 18,
   "metadata": {},
   "outputs": [
    {
     "name": "stdout",
     "output_type": "stream",
     "text": [
      "+-----------------------------------------------------------------------------------------------------------------+\n",
      "|features                                                                                                         |\n",
      "+-----------------------------------------------------------------------------------------------------------------+\n",
      "|(42,[0,1,2,4,11,15,31],[1.8487061379573442,0.6877735810696858,0.19880196875001743,1.407781753443814,1.0,1.0,1.0])|\n",
      "|(42,[0,1,4,5,15,32],[1.327276201610401,3.0025900432970136,1.407781753443814,1.0,1.0,1.0])                        |\n",
      "|(42,[0,1,4,5,16,30],[1.7539006949851728,2.525001048144555,1.407781753443814,1.0,1.0,1.0])                        |\n",
      "|(42,[0,1,4,5,14,30],[1.7539006949851728,2.4884634093752047,2.815563506887628,1.0,1.0,1.0])                       |\n",
      "|(42,[0,1,4,5,21,38],[1.6116925305269154,2.178124169152871,1.5837544726242907,1.0,1.0,1.0])                       |\n",
      "+-----------------------------------------------------------------------------------------------------------------+\n",
      "only showing top 5 rows\n",
      "\n"
     ]
    }
   ],
   "source": [
    "final_df.show(5, truncate=False)"
   ]
  },
  {
   "cell_type": "markdown",
   "metadata": {},
   "source": [
    "### **Building Kmeans clustering algorithm with different k values and plotting the error rates.**"
   ]
  },
  {
   "cell_type": "code",
   "execution_count": 19,
   "metadata": {},
   "outputs": [
    {
     "name": "stdout",
     "output_type": "stream",
     "text": [
      "With K=2\n",
      "Silhouette with squared euclidean distance = 0.67800\n",
      "------------------------------------------------------------\n",
      "With K=3\n",
      "Silhouette with squared euclidean distance = 0.16138\n",
      "------------------------------------------------------------\n",
      "With K=4\n",
      "Silhouette with squared euclidean distance = 0.14453\n",
      "------------------------------------------------------------\n",
      "With K=5\n",
      "Silhouette with squared euclidean distance = 0.15690\n",
      "------------------------------------------------------------\n",
      "With K=6\n",
      "Silhouette with squared euclidean distance = 0.17056\n",
      "------------------------------------------------------------\n",
      "With K=7\n",
      "Silhouette with squared euclidean distance = 0.17451\n",
      "------------------------------------------------------------\n",
      "With K=8\n",
      "Silhouette with squared euclidean distance = 0.17706\n",
      "------------------------------------------------------------\n",
      "With K=9\n",
      "Silhouette with squared euclidean distance = 0.16803\n",
      "------------------------------------------------------------\n"
     ]
    }
   ],
   "source": [
    "errors = []\n",
    "models = {} # dictionary\n",
    "\n",
    "for k in range(2, 10):\n",
    "    kmeans = KMeans(featuresCol='features', k=k)\n",
    "    model = kmeans.fit(final_df)\n",
    "    models[k] = model\n",
    "    pred = model.transform(final_df)\n",
    "\n",
    "    # Now, we will compute sum-of-squared-error or squared-eucledian-distance.\n",
    "    evaluator = ClusteringEvaluator()\n",
    "    ssed = evaluator.evaluate(pred)\n",
    "    errors.append(ssed)\n",
    "\n",
    "    print(f'With K={k}')\n",
    "    print(f'Silhouette with squared euclidean distance = {ssed:.5f}')\n",
    "    print('-'*60)"
   ]
  },
  {
   "cell_type": "markdown",
   "metadata": {},
   "source": [
    "Now, we will find the best k by plotting the error rates."
   ]
  },
  {
   "cell_type": "code",
   "execution_count": 20,
   "metadata": {},
   "outputs": [
    {
     "data": {
      "image/png": "[encoded data removed]",
      "text/plain": [
       "<Figure size 432x288 with 1 Axes>"
      ]
     },
     "metadata": {
      "needs_background": "light"
     },
     "output_type": "display_data"
    }
   ],
   "source": [
    "cluster_nums = range(2, 10)\n",
    "plt.plot(cluster_nums, errors)\n",
    "plt.xlabel('k')\n",
    "plt.ylabel('sse')\n",
    "plt.title('Error vs k')\n",
    "plt.show()"
   ]
  },
  {
   "cell_type": "markdown",
   "metadata": {},
   "source": [
    "- As we can see, be elbow method, k=3 produced the least  acceptable error. This signifies that there are 3 clusters where most of the data is distributed. "
   ]
  },
  {
   "cell_type": "markdown",
   "metadata": {},
   "source": [
    "### **Using the model.**"
   ]
  },
  {
   "cell_type": "code",
   "execution_count": 25,
   "metadata": {},
   "outputs": [],
   "source": [
    "# Taking a sample data from the df.\n",
    "random_samples = final_df.sample(0.1).limit(10)"
   ]
  },
  {
   "cell_type": "code",
   "execution_count": 26,
   "metadata": {},
   "outputs": [
    {
     "name": "stdout",
     "output_type": "stream",
     "text": [
      "+---------------------------------------------------------------------------------------------------------------+\n",
      "|features                                                                                                       |\n",
      "+---------------------------------------------------------------------------------------------------------------+\n",
      "|(42,[0,1,4,10,20,39],[1.6590952520130013,0.681820022154136,1.407781753443814,1.0,1.0,1.0])                     |\n",
      "|(42,[0,1,3,4,5,15,30],[2.133122466873859,3.4331893990802445,1.8947438089507587,1.407781753443814,1.0,1.0,1.0]) |\n",
      "|(42,[0,1,4,5,17,33],[1.6590952520130013,0.49999247691365567,1.407781753443814,1.0,1.0,1.0])                    |\n",
      "|(42,[0,1,4,5,13,38],[2.2753306313321158,1.3277057468299163,1.407781753443814,1.0,1.0,1.0])                     |\n",
      "|(42,[0,1,4,5,19,36],[1.4220816445825726,1.7292914846491412,1.407781753443814,1.0,1.0,1.0])                     |\n",
      "|(42,[0,1,4,5,14,33],[0.9954571512078008,1.7737790321939502,1.407781753443814,1.0,1.0,1.0])                     |\n",
      "|(42,[0,1,4,5,15,30],[2.2279279098460303,2.553801722123504,1.407781753443814,1.0,1.0,1.0])                      |\n",
      "|(42,[0,1,2,4,7,13,29],[1.8013034164712585,1.073459501337994,0.4010788569170085,1.2318090342633372,1.0,1.0,1.0])|\n",
      "|(42,[0,1,4,5,23,37],[2.1805251883599444,1.2971394123082036,1.2670035780994324,1.0,1.0,1.0])                    |\n",
      "|(42,[0,1,4,5,15,36],[1.0902625941799722,1.9035595184201008,1.407781753443814,1.0,1.0,1.0])                     |\n",
      "+---------------------------------------------------------------------------------------------------------------+\n",
      "\n"
     ]
    }
   ],
   "source": [
    "random_samples.show(truncate=False)"
   ]
  },
  {
   "cell_type": "code",
   "execution_count": 27,
   "metadata": {},
   "outputs": [],
   "source": [
    "model_to_use = models[3]\n",
    "pred_df = model_to_use.transform(random_samples)"
   ]
  },
  {
   "cell_type": "code",
   "execution_count": 28,
   "metadata": {},
   "outputs": [
    {
     "name": "stdout",
     "output_type": "stream",
     "text": [
      "+---------------------------------------------------------------------------------------------------------------+----------+\n",
      "|features                                                                                                       |prediction|\n",
      "+---------------------------------------------------------------------------------------------------------------+----------+\n",
      "|(42,[0,1,4,10,20,39],[1.6590952520130013,0.681820022154136,1.407781753443814,1.0,1.0,1.0])                     |0         |\n",
      "|(42,[0,1,3,4,5,15,30],[2.133122466873859,3.4331893990802445,1.8947438089507587,1.407781753443814,1.0,1.0,1.0]) |0         |\n",
      "|(42,[0,1,4,5,17,33],[1.6590952520130013,0.49999247691365567,1.407781753443814,1.0,1.0,1.0])                    |0         |\n",
      "|(42,[0,1,4,5,13,38],[2.2753306313321158,1.3277057468299163,1.407781753443814,1.0,1.0,1.0])                     |0         |\n",
      "|(42,[0,1,4,5,19,36],[1.4220816445825726,1.7292914846491412,1.407781753443814,1.0,1.0,1.0])                     |0         |\n",
      "|(42,[0,1,4,5,14,33],[0.9954571512078008,1.7737790321939502,1.407781753443814,1.0,1.0,1.0])                     |0         |\n",
      "|(42,[0,1,4,5,15,30],[2.2279279098460303,2.553801722123504,1.407781753443814,1.0,1.0,1.0])                      |0         |\n",
      "|(42,[0,1,2,4,7,13,29],[1.8013034164712585,1.073459501337994,0.4010788569170085,1.2318090342633372,1.0,1.0,1.0])|0         |\n",
      "|(42,[0,1,4,5,23,37],[2.1805251883599444,1.2971394123082036,1.2670035780994324,1.0,1.0,1.0])                    |0         |\n",
      "|(42,[0,1,4,5,15,36],[1.0902625941799722,1.9035595184201008,1.407781753443814,1.0,1.0,1.0])                     |0         |\n",
      "+---------------------------------------------------------------------------------------------------------------+----------+\n",
      "\n"
     ]
    }
   ],
   "source": [
    "pred_df.select(pred_df.features, pred_df.prediction).show(truncate=False)"
   ]
  },
  {
   "cell_type": "markdown",
   "metadata": {},
   "source": [
    "As we can see, majority of the random samples selected belong to the cluster#1 indexed as 0. Therefore, it was an exquisite experience using the model."
   ]
  }
 ],
 "metadata": {
  "interpreter": {
   "hash": "32097e69bc79c595731a7497feac30fb46b046080f88a2597586ab8db5f4f542"
  },
  "kernelspec": {
   "display_name": "Python 3.8.4 64-bit ('venv': venv)",
   "language": "python",
   "name": "python3"
  },
  "language_info": {
   "codemirror_mode": {
    "name": "ipython",
    "version": 3
   },
   "file_extension": ".py",
   "mimetype": "text/x-python",
   "name": "python",
   "nbconvert_exporter": "python",
   "pygments_lexer": "ipython3",
   "version": "3.8.4"
  },
  "orig_nbformat": 4
 },
 "nbformat": 4,
 "nbformat_minor": 2
}
